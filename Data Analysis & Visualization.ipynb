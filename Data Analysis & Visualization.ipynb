{
 "cells": [
  {
   "cell_type": "markdown",
   "metadata": {},
   "source": [
    "# MTA Analysis: Data Analysis & Visualization"
   ]
  },
  {
   "cell_type": "markdown",
   "metadata": {},
   "source": [
    "Import libraries and configure matplotlib theme."
   ]
  },
  {
   "cell_type": "code",
   "execution_count": 1,
   "metadata": {},
   "outputs": [],
   "source": [
    "import pandas as pd\n",
    "import matplotlib.pyplot as plt\n",
    "plt.style.use('seaborn')"
   ]
  },
  {
   "cell_type": "markdown",
   "metadata": {},
   "source": [
    "Load cleaned MTA turnstile data."
   ]
  },
  {
   "cell_type": "code",
   "execution_count": 2,
   "metadata": {},
   "outputs": [
    {
     "data": {
      "text/html": [
       "<div>\n",
       "<style scoped>\n",
       "    .dataframe tbody tr th:only-of-type {\n",
       "        vertical-align: middle;\n",
       "    }\n",
       "\n",
       "    .dataframe tbody tr th {\n",
       "        vertical-align: top;\n",
       "    }\n",
       "\n",
       "    .dataframe thead th {\n",
       "        text-align: right;\n",
       "    }\n",
       "</style>\n",
       "<table border=\"1\" class=\"dataframe\">\n",
       "  <thead>\n",
       "    <tr style=\"text-align: right;\">\n",
       "      <th></th>\n",
       "      <th>C/A</th>\n",
       "      <th>UNIT</th>\n",
       "      <th>SCP</th>\n",
       "      <th>STATION</th>\n",
       "      <th>LINENAME</th>\n",
       "      <th>DIVISION</th>\n",
       "      <th>DATE</th>\n",
       "      <th>TIME</th>\n",
       "      <th>ENTRIES</th>\n",
       "      <th>EXITS</th>\n",
       "      <th>DATETIME</th>\n",
       "      <th>PREV_DATETIME</th>\n",
       "      <th>PREV_ENTRIES</th>\n",
       "      <th>PREV_EXITS</th>\n",
       "      <th>HOURLY_ENTRIES</th>\n",
       "      <th>HOURLY_EXITS</th>\n",
       "    </tr>\n",
       "  </thead>\n",
       "  <tbody>\n",
       "    <tr>\n",
       "      <th>1</th>\n",
       "      <td>A002</td>\n",
       "      <td>R051</td>\n",
       "      <td>02-00-00</td>\n",
       "      <td>LEXINGTON AVE</td>\n",
       "      <td>NQR456</td>\n",
       "      <td>BMT</td>\n",
       "      <td>04/25/2015</td>\n",
       "      <td>04:00:00</td>\n",
       "      <td>5106810</td>\n",
       "      <td>1729649</td>\n",
       "      <td>2015-04-25 04:00:00</td>\n",
       "      <td>2015-04-25 00:00:00</td>\n",
       "      <td>5106770.0</td>\n",
       "      <td>1729635.0</td>\n",
       "      <td>40.0</td>\n",
       "      <td>14.0</td>\n",
       "    </tr>\n",
       "    <tr>\n",
       "      <th>2</th>\n",
       "      <td>A002</td>\n",
       "      <td>R051</td>\n",
       "      <td>02-00-00</td>\n",
       "      <td>LEXINGTON AVE</td>\n",
       "      <td>NQR456</td>\n",
       "      <td>BMT</td>\n",
       "      <td>04/25/2015</td>\n",
       "      <td>08:00:00</td>\n",
       "      <td>5106835</td>\n",
       "      <td>1729680</td>\n",
       "      <td>2015-04-25 08:00:00</td>\n",
       "      <td>2015-04-25 04:00:00</td>\n",
       "      <td>5106810.0</td>\n",
       "      <td>1729649.0</td>\n",
       "      <td>25.0</td>\n",
       "      <td>31.0</td>\n",
       "    </tr>\n",
       "    <tr>\n",
       "      <th>3</th>\n",
       "      <td>A002</td>\n",
       "      <td>R051</td>\n",
       "      <td>02-00-00</td>\n",
       "      <td>LEXINGTON AVE</td>\n",
       "      <td>NQR456</td>\n",
       "      <td>BMT</td>\n",
       "      <td>04/25/2015</td>\n",
       "      <td>12:00:00</td>\n",
       "      <td>5106961</td>\n",
       "      <td>1729784</td>\n",
       "      <td>2015-04-25 12:00:00</td>\n",
       "      <td>2015-04-25 08:00:00</td>\n",
       "      <td>5106835.0</td>\n",
       "      <td>1729680.0</td>\n",
       "      <td>126.0</td>\n",
       "      <td>104.0</td>\n",
       "    </tr>\n",
       "    <tr>\n",
       "      <th>4</th>\n",
       "      <td>A002</td>\n",
       "      <td>R051</td>\n",
       "      <td>02-00-00</td>\n",
       "      <td>LEXINGTON AVE</td>\n",
       "      <td>NQR456</td>\n",
       "      <td>BMT</td>\n",
       "      <td>04/25/2015</td>\n",
       "      <td>16:00:00</td>\n",
       "      <td>5107250</td>\n",
       "      <td>1729858</td>\n",
       "      <td>2015-04-25 16:00:00</td>\n",
       "      <td>2015-04-25 12:00:00</td>\n",
       "      <td>5106961.0</td>\n",
       "      <td>1729784.0</td>\n",
       "      <td>289.0</td>\n",
       "      <td>74.0</td>\n",
       "    </tr>\n",
       "    <tr>\n",
       "      <th>5</th>\n",
       "      <td>A002</td>\n",
       "      <td>R051</td>\n",
       "      <td>02-00-00</td>\n",
       "      <td>LEXINGTON AVE</td>\n",
       "      <td>NQR456</td>\n",
       "      <td>BMT</td>\n",
       "      <td>04/25/2015</td>\n",
       "      <td>20:00:00</td>\n",
       "      <td>5107620</td>\n",
       "      <td>1729914</td>\n",
       "      <td>2015-04-25 20:00:00</td>\n",
       "      <td>2015-04-25 16:00:00</td>\n",
       "      <td>5107250.0</td>\n",
       "      <td>1729858.0</td>\n",
       "      <td>370.0</td>\n",
       "      <td>56.0</td>\n",
       "    </tr>\n",
       "  </tbody>\n",
       "</table>\n",
       "</div>"
      ],
      "text/plain": [
       "    C/A  UNIT       SCP        STATION LINENAME DIVISION        DATE  \\\n",
       "1  A002  R051  02-00-00  LEXINGTON AVE   NQR456      BMT  04/25/2015   \n",
       "2  A002  R051  02-00-00  LEXINGTON AVE   NQR456      BMT  04/25/2015   \n",
       "3  A002  R051  02-00-00  LEXINGTON AVE   NQR456      BMT  04/25/2015   \n",
       "4  A002  R051  02-00-00  LEXINGTON AVE   NQR456      BMT  04/25/2015   \n",
       "5  A002  R051  02-00-00  LEXINGTON AVE   NQR456      BMT  04/25/2015   \n",
       "\n",
       "       TIME  ENTRIES    EXITS            DATETIME       PREV_DATETIME  \\\n",
       "1  04:00:00  5106810  1729649 2015-04-25 04:00:00 2015-04-25 00:00:00   \n",
       "2  08:00:00  5106835  1729680 2015-04-25 08:00:00 2015-04-25 04:00:00   \n",
       "3  12:00:00  5106961  1729784 2015-04-25 12:00:00 2015-04-25 08:00:00   \n",
       "4  16:00:00  5107250  1729858 2015-04-25 16:00:00 2015-04-25 12:00:00   \n",
       "5  20:00:00  5107620  1729914 2015-04-25 20:00:00 2015-04-25 16:00:00   \n",
       "\n",
       "   PREV_ENTRIES  PREV_EXITS  HOURLY_ENTRIES  HOURLY_EXITS  \n",
       "1     5106770.0   1729635.0            40.0          14.0  \n",
       "2     5106810.0   1729649.0            25.0          31.0  \n",
       "3     5106835.0   1729680.0           126.0         104.0  \n",
       "4     5106961.0   1729784.0           289.0          74.0  \n",
       "5     5107250.0   1729858.0           370.0          56.0  "
      ]
     },
     "execution_count": 2,
     "metadata": {},
     "output_type": "execute_result"
    }
   ],
   "source": [
    "df_mta = pd.read_pickle('cleaned_mta_turnstile_data_mayjune_20152020.pkl')\n",
    "df_mta.head()"
   ]
  },
  {
   "cell_type": "markdown",
   "metadata": {},
   "source": [
    "### Stations to Target in Morning/Evening Rush Hour\n",
    "Based on the time of day analysis above, we have determined that generally, the busiest times at subway stations are: \n",
    "`ENTER MORNING TIME HERE` and `ENTER EVENING TIME HERE`. \n",
    "\n",
    "First filter the data into two groups: morning rush hour and evening rush hour."
   ]
  },
  {
   "cell_type": "code",
   "execution_count": 4,
   "metadata": {},
   "outputs": [],
   "source": [
    "df_morning = df_mta[(df_mta['DATETIME'].dt.hour < 10) & (df_mta['DATETIME'].dt.hour > 8)]\n",
    "df_evening = df_mta[(df_mta['DATETIME'].dt.hour < 18) & (df_mta['DATETIME'].dt.hour > 16)]"
   ]
  },
  {
   "cell_type": "markdown",
   "metadata": {},
   "source": [
    "Group the data by station, and create a column containing the sum of entries and exits (total traffic)."
   ]
  },
  {
   "cell_type": "code",
   "execution_count": null,
   "metadata": {},
   "outputs": [],
   "source": [
    "df_morning = df_morning.groupby('STATION', as_index=False).sum()\n",
    "df_morning['TOTAL_TRAFFIC'] = df_morning['HOURLY_ENTRIES'] + df_morning['HOURLY_EXITS']\n",
    "\n",
    "df_evening = df_evening.groupby('STATION', as_index=False).sum()\n",
    "df_evening['TOTAL_TRAFFIC'] = df_evening['HOURLY_ENTRIES'] + df_evening['HOURLY_EXITS']"
   ]
  },
  {
   "cell_type": "markdown",
   "metadata": {},
   "source": [
    "Load station location info."
   ]
  },
  {
   "cell_type": "code",
   "execution_count": null,
   "metadata": {},
   "outputs": [],
   "source": [
    "station_locations = pd.read_csv('raw_data/NYC_Transit_Subway_Entrance_And_Exit_Data.csv')\n",
    "station_locations.drop_duplicates('Station Name', inplace=True)"
   ]
  },
  {
   "cell_type": "code",
   "execution_count": null,
   "metadata": {},
   "outputs": [],
   "source": [
    "station_locations.head()"
   ]
  },
  {
   "cell_type": "markdown",
   "metadata": {},
   "source": [
    "Add column in turnstile data for station name as they are listed in a database of station lat/lon for merging. Then merge."
   ]
  },
  {
   "cell_type": "code",
   "execution_count": null,
   "metadata": {},
   "outputs": [],
   "source": [
    "df_mta_top_10['Station Name'] = ['34th St', '34th St', 'Grand Central-42nd St', 'Union Square', '23rd St', \n",
    "                             '86th St', 'Fulton St', 'Times Square-42nd St', '125th St', '42nd St']\n",
    "df_mta_top_10 = df_mta_top_10.merge(station_locations, on='Station Name')"
   ]
  },
  {
   "cell_type": "code",
   "execution_count": null,
   "metadata": {},
   "outputs": [],
   "source": [
    "import plotly.express as px\n",
    "px.set_mapbox_access_token(\n",
    "    'pk.eyJ1Ijoic3RldmVqa2FwbGFuIiwiYSI6ImNrYzU5cmU4MTAzZnMydGpoYW9samtjemsifQ.4vpWJGjiGUC-K389B4JdbA'\n",
    ")\n",
    "fig = px.scatter_mapbox(df_mta_top_10, lat=\"Entrance Latitude\", lon=\"Entrance Longitude\", size=\"HOURLY_ENTRIES\",\n",
    "                        color_continuous_scale=px.colors.cyclical.IceFire, size_max=15, zoom=11, opacity=0.5,\n",
    "                       width=600,height=800, mapbox_style='light', color='STATION')\n",
    "fig.show()\n"
   ]
  },
  {
   "cell_type": "markdown",
   "metadata": {},
   "source": [
    "#### 2. Time of Day Trends"
   ]
  },
  {
   "cell_type": "code",
   "execution_count": null,
   "metadata": {},
   "outputs": [],
   "source": []
  },
  {
   "cell_type": "markdown",
   "metadata": {},
   "source": [
    "#### 3. Day of Week Trends"
   ]
  },
  {
   "cell_type": "code",
   "execution_count": null,
   "metadata": {},
   "outputs": [],
   "source": []
  },
  {
   "cell_type": "markdown",
   "metadata": {},
   "source": [
    "#### 4. Days to Avoid"
   ]
  },
  {
   "cell_type": "code",
   "execution_count": null,
   "metadata": {},
   "outputs": [],
   "source": []
  },
  {
   "cell_type": "markdown",
   "metadata": {},
   "source": [
    "#### 5. Coronavirus Caveat (long term time trend) (202020 vs previous year)"
   ]
  },
  {
   "cell_type": "code",
   "execution_count": null,
   "metadata": {},
   "outputs": [],
   "source": []
  },
  {
   "cell_type": "markdown",
   "metadata": {},
   "source": [
    "recommend specific booths to stand near since different booths service different isolated access points in the station"
   ]
  },
  {
   "cell_type": "code",
   "execution_count": null,
   "metadata": {},
   "outputs": [],
   "source": []
  },
  {
   "cell_type": "code",
   "execution_count": null,
   "metadata": {},
   "outputs": [],
   "source": []
  }
 ],
 "metadata": {
  "kernelspec": {
   "display_name": "Python 3",
   "language": "python",
   "name": "python3"
  },
  "language_info": {
   "codemirror_mode": {
    "name": "ipython",
    "version": 3
   },
   "file_extension": ".py",
   "mimetype": "text/x-python",
   "name": "python",
   "nbconvert_exporter": "python",
   "pygments_lexer": "ipython3",
   "version": "3.8.3"
  }
 },
 "nbformat": 4,
 "nbformat_minor": 4
}
