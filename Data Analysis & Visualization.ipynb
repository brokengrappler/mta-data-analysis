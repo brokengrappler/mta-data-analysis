{
 "cells": [
  {
   "cell_type": "markdown",
   "metadata": {},
   "source": [
    "# MTA Analysis: Data Analysis & Visualization"
   ]
  },
  {
   "cell_type": "markdown",
   "metadata": {},
   "source": [
    "Import libraries and configure matplotlib theme."
   ]
  },
  {
   "cell_type": "code",
   "execution_count": 3,
   "metadata": {},
   "outputs": [],
   "source": [
    "import pandas as pd\n",
    "import matplotlib.pyplot as plt\n",
    "import plotly.express as px\n",
    "\n",
    "plt.style.use('seaborn')"
   ]
  },
  {
   "cell_type": "markdown",
   "metadata": {},
   "source": [
    "Load cleaned MTA turnstile data."
   ]
  },
  {
   "cell_type": "code",
   "execution_count": 8,
   "metadata": {},
   "outputs": [
    {
     "data": {
      "text/html": [
       "<div>\n",
       "<style scoped>\n",
       "    .dataframe tbody tr th:only-of-type {\n",
       "        vertical-align: middle;\n",
       "    }\n",
       "\n",
       "    .dataframe tbody tr th {\n",
       "        vertical-align: top;\n",
       "    }\n",
       "\n",
       "    .dataframe thead th {\n",
       "        text-align: right;\n",
       "    }\n",
       "</style>\n",
       "<table border=\"1\" class=\"dataframe\">\n",
       "  <thead>\n",
       "    <tr style=\"text-align: right;\">\n",
       "      <th></th>\n",
       "      <th>C/A</th>\n",
       "      <th>UNIT</th>\n",
       "      <th>SCP</th>\n",
       "      <th>STATION</th>\n",
       "      <th>LINENAME</th>\n",
       "      <th>DIVISION</th>\n",
       "      <th>DATE</th>\n",
       "      <th>TIME</th>\n",
       "      <th>ENTRIES</th>\n",
       "      <th>EXITS</th>\n",
       "      <th>DATETIME</th>\n",
       "      <th>PREV_DATETIME</th>\n",
       "      <th>PREV_ENTRIES</th>\n",
       "      <th>PREV_EXITS</th>\n",
       "      <th>HOURLY_ENTRIES</th>\n",
       "      <th>HOURLY_EXITS</th>\n",
       "      <th>DAYOFWEEK</th>\n",
       "      <th>ENTRIES_MEDIAN</th>\n",
       "      <th>EXITS_MEDIAN</th>\n",
       "      <th>YEAR</th>\n",
       "    </tr>\n",
       "  </thead>\n",
       "  <tbody>\n",
       "    <tr>\n",
       "      <th>1724845</th>\n",
       "      <td>A002</td>\n",
       "      <td>R051</td>\n",
       "      <td>02-00-00</td>\n",
       "      <td>59 ST</td>\n",
       "      <td>NQR456</td>\n",
       "      <td>BMT</td>\n",
       "      <td>04/30/2016</td>\n",
       "      <td>04:00:00</td>\n",
       "      <td>5639991</td>\n",
       "      <td>1909993</td>\n",
       "      <td>2016-04-30 04:00:00</td>\n",
       "      <td>2016-04-30 00:00:00</td>\n",
       "      <td>5639941.0</td>\n",
       "      <td>1909983.0</td>\n",
       "      <td>50.0</td>\n",
       "      <td>10.0</td>\n",
       "      <td>5</td>\n",
       "      <td>24.0</td>\n",
       "      <td>4.0</td>\n",
       "      <td>2016</td>\n",
       "    </tr>\n",
       "    <tr>\n",
       "      <th>1724846</th>\n",
       "      <td>A002</td>\n",
       "      <td>R051</td>\n",
       "      <td>02-00-00</td>\n",
       "      <td>59 ST</td>\n",
       "      <td>NQR456</td>\n",
       "      <td>BMT</td>\n",
       "      <td>04/30/2016</td>\n",
       "      <td>08:00:00</td>\n",
       "      <td>5640014</td>\n",
       "      <td>1910024</td>\n",
       "      <td>2016-04-30 08:00:00</td>\n",
       "      <td>2016-04-30 04:00:00</td>\n",
       "      <td>5639991.0</td>\n",
       "      <td>1909993.0</td>\n",
       "      <td>23.0</td>\n",
       "      <td>31.0</td>\n",
       "      <td>5</td>\n",
       "      <td>19.0</td>\n",
       "      <td>30.0</td>\n",
       "      <td>2016</td>\n",
       "    </tr>\n",
       "    <tr>\n",
       "      <th>1724847</th>\n",
       "      <td>A002</td>\n",
       "      <td>R051</td>\n",
       "      <td>02-00-00</td>\n",
       "      <td>59 ST</td>\n",
       "      <td>NQR456</td>\n",
       "      <td>BMT</td>\n",
       "      <td>04/30/2016</td>\n",
       "      <td>12:00:00</td>\n",
       "      <td>5640158</td>\n",
       "      <td>1910134</td>\n",
       "      <td>2016-04-30 12:00:00</td>\n",
       "      <td>2016-04-30 08:00:00</td>\n",
       "      <td>5640014.0</td>\n",
       "      <td>1910024.0</td>\n",
       "      <td>144.0</td>\n",
       "      <td>110.0</td>\n",
       "      <td>5</td>\n",
       "      <td>89.0</td>\n",
       "      <td>80.0</td>\n",
       "      <td>2016</td>\n",
       "    </tr>\n",
       "    <tr>\n",
       "      <th>1724848</th>\n",
       "      <td>A002</td>\n",
       "      <td>R051</td>\n",
       "      <td>02-00-00</td>\n",
       "      <td>59 ST</td>\n",
       "      <td>NQR456</td>\n",
       "      <td>BMT</td>\n",
       "      <td>04/30/2016</td>\n",
       "      <td>16:00:00</td>\n",
       "      <td>5640454</td>\n",
       "      <td>1910197</td>\n",
       "      <td>2016-04-30 16:00:00</td>\n",
       "      <td>2016-04-30 12:00:00</td>\n",
       "      <td>5640158.0</td>\n",
       "      <td>1910134.0</td>\n",
       "      <td>296.0</td>\n",
       "      <td>63.0</td>\n",
       "      <td>5</td>\n",
       "      <td>218.0</td>\n",
       "      <td>56.0</td>\n",
       "      <td>2016</td>\n",
       "    </tr>\n",
       "    <tr>\n",
       "      <th>1724849</th>\n",
       "      <td>A002</td>\n",
       "      <td>R051</td>\n",
       "      <td>02-00-00</td>\n",
       "      <td>59 ST</td>\n",
       "      <td>NQR456</td>\n",
       "      <td>BMT</td>\n",
       "      <td>04/30/2016</td>\n",
       "      <td>20:00:00</td>\n",
       "      <td>5640802</td>\n",
       "      <td>1910254</td>\n",
       "      <td>2016-04-30 20:00:00</td>\n",
       "      <td>2016-04-30 16:00:00</td>\n",
       "      <td>5640454.0</td>\n",
       "      <td>1910197.0</td>\n",
       "      <td>348.0</td>\n",
       "      <td>57.0</td>\n",
       "      <td>5</td>\n",
       "      <td>284.5</td>\n",
       "      <td>41.5</td>\n",
       "      <td>2016</td>\n",
       "    </tr>\n",
       "  </tbody>\n",
       "</table>\n",
       "</div>"
      ],
      "text/plain": [
       "          C/A  UNIT       SCP STATION LINENAME DIVISION        DATE      TIME  \\\n",
       "1724845  A002  R051  02-00-00   59 ST   NQR456      BMT  04/30/2016  04:00:00   \n",
       "1724846  A002  R051  02-00-00   59 ST   NQR456      BMT  04/30/2016  08:00:00   \n",
       "1724847  A002  R051  02-00-00   59 ST   NQR456      BMT  04/30/2016  12:00:00   \n",
       "1724848  A002  R051  02-00-00   59 ST   NQR456      BMT  04/30/2016  16:00:00   \n",
       "1724849  A002  R051  02-00-00   59 ST   NQR456      BMT  04/30/2016  20:00:00   \n",
       "\n",
       "         ENTRIES    EXITS            DATETIME       PREV_DATETIME  \\\n",
       "1724845  5639991  1909993 2016-04-30 04:00:00 2016-04-30 00:00:00   \n",
       "1724846  5640014  1910024 2016-04-30 08:00:00 2016-04-30 04:00:00   \n",
       "1724847  5640158  1910134 2016-04-30 12:00:00 2016-04-30 08:00:00   \n",
       "1724848  5640454  1910197 2016-04-30 16:00:00 2016-04-30 12:00:00   \n",
       "1724849  5640802  1910254 2016-04-30 20:00:00 2016-04-30 16:00:00   \n",
       "\n",
       "         PREV_ENTRIES  PREV_EXITS  HOURLY_ENTRIES  HOURLY_EXITS  DAYOFWEEK  \\\n",
       "1724845     5639941.0   1909983.0            50.0          10.0          5   \n",
       "1724846     5639991.0   1909993.0            23.0          31.0          5   \n",
       "1724847     5640014.0   1910024.0           144.0         110.0          5   \n",
       "1724848     5640158.0   1910134.0           296.0          63.0          5   \n",
       "1724849     5640454.0   1910197.0           348.0          57.0          5   \n",
       "\n",
       "         ENTRIES_MEDIAN  EXITS_MEDIAN  YEAR  \n",
       "1724845            24.0           4.0  2016  \n",
       "1724846            19.0          30.0  2016  \n",
       "1724847            89.0          80.0  2016  \n",
       "1724848           218.0          56.0  2016  \n",
       "1724849           284.5          41.5  2016  "
      ]
     },
     "execution_count": 8,
     "metadata": {},
     "output_type": "execute_result"
    }
   ],
   "source": [
    "df_mta = pd.read_pickle('processed_data/cleaned_mta_turnstile_data.pkl')\n",
    "df_mta.head()"
   ]
  },
  {
   "cell_type": "markdown",
   "metadata": {},
   "source": [
    "We are mostly concerned with total traffic at a given station, so we can combine entries/exits into a `TOTAL_TRAFFIC` column."
   ]
  },
  {
   "cell_type": "code",
   "execution_count": 19,
   "metadata": {},
   "outputs": [
    {
     "data": {
      "text/html": [
       "<div>\n",
       "<style scoped>\n",
       "    .dataframe tbody tr th:only-of-type {\n",
       "        vertical-align: middle;\n",
       "    }\n",
       "\n",
       "    .dataframe tbody tr th {\n",
       "        vertical-align: top;\n",
       "    }\n",
       "\n",
       "    .dataframe thead th {\n",
       "        text-align: right;\n",
       "    }\n",
       "</style>\n",
       "<table border=\"1\" class=\"dataframe\">\n",
       "  <thead>\n",
       "    <tr style=\"text-align: right;\">\n",
       "      <th></th>\n",
       "      <th>C/A</th>\n",
       "      <th>UNIT</th>\n",
       "      <th>SCP</th>\n",
       "      <th>STATION</th>\n",
       "      <th>LINENAME</th>\n",
       "      <th>DIVISION</th>\n",
       "      <th>DATE</th>\n",
       "      <th>TIME</th>\n",
       "      <th>ENTRIES</th>\n",
       "      <th>EXITS</th>\n",
       "      <th>...</th>\n",
       "      <th>PREV_DATETIME</th>\n",
       "      <th>PREV_ENTRIES</th>\n",
       "      <th>PREV_EXITS</th>\n",
       "      <th>HOURLY_ENTRIES</th>\n",
       "      <th>HOURLY_EXITS</th>\n",
       "      <th>DAYOFWEEK</th>\n",
       "      <th>ENTRIES_MEDIAN</th>\n",
       "      <th>EXITS_MEDIAN</th>\n",
       "      <th>YEAR</th>\n",
       "      <th>TOTAL_TRAFFIC</th>\n",
       "    </tr>\n",
       "  </thead>\n",
       "  <tbody>\n",
       "    <tr>\n",
       "      <th>1724845</th>\n",
       "      <td>A002</td>\n",
       "      <td>R051</td>\n",
       "      <td>02-00-00</td>\n",
       "      <td>59 ST</td>\n",
       "      <td>NQR456</td>\n",
       "      <td>BMT</td>\n",
       "      <td>04/30/2016</td>\n",
       "      <td>04:00:00</td>\n",
       "      <td>5639991</td>\n",
       "      <td>1909993</td>\n",
       "      <td>...</td>\n",
       "      <td>2016-04-30 00:00:00</td>\n",
       "      <td>5639941.0</td>\n",
       "      <td>1909983.0</td>\n",
       "      <td>50.0</td>\n",
       "      <td>10.0</td>\n",
       "      <td>5</td>\n",
       "      <td>24.0</td>\n",
       "      <td>4.0</td>\n",
       "      <td>2016</td>\n",
       "      <td>60.0</td>\n",
       "    </tr>\n",
       "    <tr>\n",
       "      <th>1724846</th>\n",
       "      <td>A002</td>\n",
       "      <td>R051</td>\n",
       "      <td>02-00-00</td>\n",
       "      <td>59 ST</td>\n",
       "      <td>NQR456</td>\n",
       "      <td>BMT</td>\n",
       "      <td>04/30/2016</td>\n",
       "      <td>08:00:00</td>\n",
       "      <td>5640014</td>\n",
       "      <td>1910024</td>\n",
       "      <td>...</td>\n",
       "      <td>2016-04-30 04:00:00</td>\n",
       "      <td>5639991.0</td>\n",
       "      <td>1909993.0</td>\n",
       "      <td>23.0</td>\n",
       "      <td>31.0</td>\n",
       "      <td>5</td>\n",
       "      <td>19.0</td>\n",
       "      <td>30.0</td>\n",
       "      <td>2016</td>\n",
       "      <td>54.0</td>\n",
       "    </tr>\n",
       "    <tr>\n",
       "      <th>1724847</th>\n",
       "      <td>A002</td>\n",
       "      <td>R051</td>\n",
       "      <td>02-00-00</td>\n",
       "      <td>59 ST</td>\n",
       "      <td>NQR456</td>\n",
       "      <td>BMT</td>\n",
       "      <td>04/30/2016</td>\n",
       "      <td>12:00:00</td>\n",
       "      <td>5640158</td>\n",
       "      <td>1910134</td>\n",
       "      <td>...</td>\n",
       "      <td>2016-04-30 08:00:00</td>\n",
       "      <td>5640014.0</td>\n",
       "      <td>1910024.0</td>\n",
       "      <td>144.0</td>\n",
       "      <td>110.0</td>\n",
       "      <td>5</td>\n",
       "      <td>89.0</td>\n",
       "      <td>80.0</td>\n",
       "      <td>2016</td>\n",
       "      <td>254.0</td>\n",
       "    </tr>\n",
       "    <tr>\n",
       "      <th>1724848</th>\n",
       "      <td>A002</td>\n",
       "      <td>R051</td>\n",
       "      <td>02-00-00</td>\n",
       "      <td>59 ST</td>\n",
       "      <td>NQR456</td>\n",
       "      <td>BMT</td>\n",
       "      <td>04/30/2016</td>\n",
       "      <td>16:00:00</td>\n",
       "      <td>5640454</td>\n",
       "      <td>1910197</td>\n",
       "      <td>...</td>\n",
       "      <td>2016-04-30 12:00:00</td>\n",
       "      <td>5640158.0</td>\n",
       "      <td>1910134.0</td>\n",
       "      <td>296.0</td>\n",
       "      <td>63.0</td>\n",
       "      <td>5</td>\n",
       "      <td>218.0</td>\n",
       "      <td>56.0</td>\n",
       "      <td>2016</td>\n",
       "      <td>359.0</td>\n",
       "    </tr>\n",
       "    <tr>\n",
       "      <th>1724849</th>\n",
       "      <td>A002</td>\n",
       "      <td>R051</td>\n",
       "      <td>02-00-00</td>\n",
       "      <td>59 ST</td>\n",
       "      <td>NQR456</td>\n",
       "      <td>BMT</td>\n",
       "      <td>04/30/2016</td>\n",
       "      <td>20:00:00</td>\n",
       "      <td>5640802</td>\n",
       "      <td>1910254</td>\n",
       "      <td>...</td>\n",
       "      <td>2016-04-30 16:00:00</td>\n",
       "      <td>5640454.0</td>\n",
       "      <td>1910197.0</td>\n",
       "      <td>348.0</td>\n",
       "      <td>57.0</td>\n",
       "      <td>5</td>\n",
       "      <td>284.5</td>\n",
       "      <td>41.5</td>\n",
       "      <td>2016</td>\n",
       "      <td>405.0</td>\n",
       "    </tr>\n",
       "  </tbody>\n",
       "</table>\n",
       "<p>5 rows × 21 columns</p>\n",
       "</div>"
      ],
      "text/plain": [
       "          C/A  UNIT       SCP STATION LINENAME DIVISION        DATE      TIME  \\\n",
       "1724845  A002  R051  02-00-00   59 ST   NQR456      BMT  04/30/2016  04:00:00   \n",
       "1724846  A002  R051  02-00-00   59 ST   NQR456      BMT  04/30/2016  08:00:00   \n",
       "1724847  A002  R051  02-00-00   59 ST   NQR456      BMT  04/30/2016  12:00:00   \n",
       "1724848  A002  R051  02-00-00   59 ST   NQR456      BMT  04/30/2016  16:00:00   \n",
       "1724849  A002  R051  02-00-00   59 ST   NQR456      BMT  04/30/2016  20:00:00   \n",
       "\n",
       "         ENTRIES    EXITS  ...       PREV_DATETIME PREV_ENTRIES  PREV_EXITS  \\\n",
       "1724845  5639991  1909993  ... 2016-04-30 00:00:00    5639941.0   1909983.0   \n",
       "1724846  5640014  1910024  ... 2016-04-30 04:00:00    5639991.0   1909993.0   \n",
       "1724847  5640158  1910134  ... 2016-04-30 08:00:00    5640014.0   1910024.0   \n",
       "1724848  5640454  1910197  ... 2016-04-30 12:00:00    5640158.0   1910134.0   \n",
       "1724849  5640802  1910254  ... 2016-04-30 16:00:00    5640454.0   1910197.0   \n",
       "\n",
       "         HOURLY_ENTRIES  HOURLY_EXITS  DAYOFWEEK  ENTRIES_MEDIAN  \\\n",
       "1724845            50.0          10.0          5            24.0   \n",
       "1724846            23.0          31.0          5            19.0   \n",
       "1724847           144.0         110.0          5            89.0   \n",
       "1724848           296.0          63.0          5           218.0   \n",
       "1724849           348.0          57.0          5           284.5   \n",
       "\n",
       "         EXITS_MEDIAN  YEAR  TOTAL_TRAFFIC  \n",
       "1724845           4.0  2016           60.0  \n",
       "1724846          30.0  2016           54.0  \n",
       "1724847          80.0  2016          254.0  \n",
       "1724848          56.0  2016          359.0  \n",
       "1724849          41.5  2016          405.0  \n",
       "\n",
       "[5 rows x 21 columns]"
      ]
     },
     "execution_count": 19,
     "metadata": {},
     "output_type": "execute_result"
    }
   ],
   "source": [
    "df_mta['TOTAL_TRAFFIC'] = df_mta['HOURLY_ENTRIES'] + df_mta['HOURLY_EXITS']\n",
    "df_mta.head()"
   ]
  },
  {
   "cell_type": "markdown",
   "metadata": {},
   "source": [
    "### Long Term Trends\n",
    "##### Determining if there are any macro trends over the last 5 years, and if there are generally any days to avoid using advertising resources at stations.\n",
    "Prepare data."
   ]
  },
  {
   "cell_type": "code",
   "execution_count": 68,
   "metadata": {},
   "outputs": [],
   "source": [
    "df_mta['WEEK'] = df_mta['DATETIME'].dt.weekofyear\n",
    "df_grouped_by_year = df_mta.groupby(['WEEK','YEAR']).TOTAL_TRAFFIC.sum()\n",
    "df_grouped_by_year = df_grouped_by_year.unstack(level=-1)\n",
    "df_grouped_by_year = df_grouped_by_year.drop([17, 26])"
   ]
  },
  {
   "cell_type": "markdown",
   "metadata": {},
   "source": [
    "Plot long term aggregate ridership trends."
   ]
  },
  {
   "cell_type": "code",
   "execution_count": 79,
   "metadata": {},
   "outputs": [
    {
     "data": {
      "text/plain": [
       "<matplotlib.legend.Legend at 0x7fd5fa1e1f70>"
      ]
     },
     "execution_count": 79,
     "metadata": {},
     "output_type": "execute_result"
    },
    {
     "data": {
      "image/png": "[encoded data removed]",
      "text/plain": [
       "<Figure size 792x288 with 1 Axes>"
      ]
     },
     "metadata": {},
     "output_type": "display_data"
    }
   ],
   "source": [
    "df_grouped_by_year.plot(figsize=(11,4))\n",
    "plt.title(\"Aggregate MTA Traffic by Year\", fontsize=20)\n",
    "plt.ylabel('Total Entries', fontsize=14)\n",
    "plt.xticks(ticks=range(18, 26), labels=['May W1', 'May W2', 'May W3', 'May W4', 'June W1'\n",
    "                                           'June W2', 'June W3', 'June W4'])\n",
    "plt.xlabel('Date', fontsize=14)\n",
    "plt.legend(bbox_to_anchor=(1, 1), loc=2)"
   ]
  },
  {
   "cell_type": "markdown",
   "metadata": {},
   "source": [
    "### Stations to Target in Morning/Evening Rush Hour\n",
    "Based on the time of day analysis above, we have determined that generally, the busiest times at subway stations are: \n",
    "`ENTER MORNING TIME HERE` and `ENTER EVENING TIME HERE`. \n",
    "\n",
    "First filter the data into two groups: morning rush hour and evening rush hour."
   ]
  },
  {
   "cell_type": "code",
   "execution_count": 3,
   "metadata": {},
   "outputs": [],
   "source": [
    "df_morning = df_mta[(df_mta['DATETIME'].dt.hour < 10) & (df_mta['DATETIME'].dt.hour > 8)]\n",
    "df_evening = df_mta[(df_mta['DATETIME'].dt.hour < 18) & (df_mta['DATETIME'].dt.hour > 16)]"
   ]
  },
  {
   "cell_type": "markdown",
   "metadata": {},
   "source": [
    "Group the data by station, and create a column containing the sum of entries and exits (total traffic)."
   ]
  },
  {
   "cell_type": "code",
   "execution_count": 4,
   "metadata": {},
   "outputs": [],
   "source": [
    "df_morning = df_morning.groupby('STATION', as_index=False).sum()\n",
    "df_morning['TOTAL_TRAFFIC'] = df_morning['HOURLY_ENTRIES'] + df_morning['HOURLY_EXITS']\n",
    "\n",
    "df_evening = df_evening.groupby('STATION', as_index=False).sum()\n",
    "df_evening['TOTAL_TRAFFIC'] = df_evening['HOURLY_ENTRIES'] + df_evening['HOURLY_EXITS']"
   ]
  },
  {
   "cell_type": "markdown",
   "metadata": {},
   "source": [
    "Sort each time of day grouping and determine the top 10 stations by traffic for each."
   ]
  },
  {
   "cell_type": "code",
   "execution_count": 5,
   "metadata": {},
   "outputs": [
    {
     "data": {
      "text/html": [
       "<div>\n",
       "<style scoped>\n",
       "    .dataframe tbody tr th:only-of-type {\n",
       "        vertical-align: middle;\n",
       "    }\n",
       "\n",
       "    .dataframe tbody tr th {\n",
       "        vertical-align: top;\n",
       "    }\n",
       "\n",
       "    .dataframe thead th {\n",
       "        text-align: right;\n",
       "    }\n",
       "</style>\n",
       "<table border=\"1\" class=\"dataframe\">\n",
       "  <thead>\n",
       "    <tr style=\"text-align: right;\">\n",
       "      <th></th>\n",
       "      <th>STATION</th>\n",
       "      <th>ENTRIES</th>\n",
       "      <th>EXITS</th>\n",
       "      <th>PREV_ENTRIES</th>\n",
       "      <th>PREV_EXITS</th>\n",
       "      <th>HOURLY_ENTRIES</th>\n",
       "      <th>HOURLY_EXITS</th>\n",
       "      <th>TOTAL_TRAFFIC</th>\n",
       "    </tr>\n",
       "  </thead>\n",
       "  <tbody>\n",
       "    <tr>\n",
       "      <th>16</th>\n",
       "      <td>14 ST-UNION SQ</td>\n",
       "      <td>344163389187</td>\n",
       "      <td>132732532831</td>\n",
       "      <td>3.441611e+11</td>\n",
       "      <td>1.327280e+11</td>\n",
       "      <td>2146956.0</td>\n",
       "      <td>4502960.0</td>\n",
       "      <td>6649916.0</td>\n",
       "    </tr>\n",
       "    <tr>\n",
       "      <th>278</th>\n",
       "      <td>GRD CNTRL-42 ST</td>\n",
       "      <td>414314466440</td>\n",
       "      <td>310911412310</td>\n",
       "      <td>4.151756e+11</td>\n",
       "      <td>3.109776e+11</td>\n",
       "      <td>1829189.0</td>\n",
       "      <td>3894532.0</td>\n",
       "      <td>5723721.0</td>\n",
       "    </tr>\n",
       "    <tr>\n",
       "      <th>130</th>\n",
       "      <td>96 ST</td>\n",
       "      <td>250486191473</td>\n",
       "      <td>241378239842</td>\n",
       "      <td>2.504937e+11</td>\n",
       "      <td>2.413783e+11</td>\n",
       "      <td>3153598.0</td>\n",
       "      <td>1966138.0</td>\n",
       "      <td>5119736.0</td>\n",
       "    </tr>\n",
       "    <tr>\n",
       "      <th>269</th>\n",
       "      <td>FULTON ST</td>\n",
       "      <td>275770154882</td>\n",
       "      <td>723601978157</td>\n",
       "      <td>2.757687e+11</td>\n",
       "      <td>7.235990e+11</td>\n",
       "      <td>1462988.0</td>\n",
       "      <td>2938800.0</td>\n",
       "      <td>4401788.0</td>\n",
       "    </tr>\n",
       "    <tr>\n",
       "      <th>9</th>\n",
       "      <td>125 ST</td>\n",
       "      <td>1872998940069</td>\n",
       "      <td>1016851991624</td>\n",
       "      <td>1.875005e+12</td>\n",
       "      <td>1.017674e+12</td>\n",
       "      <td>2311018.0</td>\n",
       "      <td>1848729.0</td>\n",
       "      <td>4159747.0</td>\n",
       "    </tr>\n",
       "    <tr>\n",
       "      <th>110</th>\n",
       "      <td>72 ST</td>\n",
       "      <td>999936646904</td>\n",
       "      <td>1328906517998</td>\n",
       "      <td>9.999350e+11</td>\n",
       "      <td>1.328905e+12</td>\n",
       "      <td>1704122.0</td>\n",
       "      <td>1645972.0</td>\n",
       "      <td>3350094.0</td>\n",
       "    </tr>\n",
       "    <tr>\n",
       "      <th>6</th>\n",
       "      <td>116 ST</td>\n",
       "      <td>358817987344</td>\n",
       "      <td>418141599239</td>\n",
       "      <td>3.588158e+11</td>\n",
       "      <td>4.181408e+11</td>\n",
       "      <td>2175384.0</td>\n",
       "      <td>835830.0</td>\n",
       "      <td>3011214.0</td>\n",
       "    </tr>\n",
       "    <tr>\n",
       "      <th>106</th>\n",
       "      <td>7 AV</td>\n",
       "      <td>502416314635</td>\n",
       "      <td>302351183438</td>\n",
       "      <td>5.024175e+11</td>\n",
       "      <td>3.023516e+11</td>\n",
       "      <td>1423406.0</td>\n",
       "      <td>1539247.0</td>\n",
       "      <td>2962653.0</td>\n",
       "    </tr>\n",
       "    <tr>\n",
       "      <th>114</th>\n",
       "      <td>77 ST</td>\n",
       "      <td>163710203423</td>\n",
       "      <td>42914800853</td>\n",
       "      <td>1.637091e+11</td>\n",
       "      <td>4.291300e+10</td>\n",
       "      <td>1146062.0</td>\n",
       "      <td>1800569.0</td>\n",
       "      <td>2946631.0</td>\n",
       "    </tr>\n",
       "    <tr>\n",
       "      <th>48</th>\n",
       "      <td>23 ST</td>\n",
       "      <td>950279631345</td>\n",
       "      <td>792978667117</td>\n",
       "      <td>9.502787e+11</td>\n",
       "      <td>7.929770e+11</td>\n",
       "      <td>1055394.0</td>\n",
       "      <td>1831332.0</td>\n",
       "      <td>2886726.0</td>\n",
       "    </tr>\n",
       "  </tbody>\n",
       "</table>\n",
       "</div>"
      ],
      "text/plain": [
       "             STATION        ENTRIES          EXITS  PREV_ENTRIES  \\\n",
       "16    14 ST-UNION SQ   344163389187   132732532831  3.441611e+11   \n",
       "278  GRD CNTRL-42 ST   414314466440   310911412310  4.151756e+11   \n",
       "130            96 ST   250486191473   241378239842  2.504937e+11   \n",
       "269        FULTON ST   275770154882   723601978157  2.757687e+11   \n",
       "9             125 ST  1872998940069  1016851991624  1.875005e+12   \n",
       "110            72 ST   999936646904  1328906517998  9.999350e+11   \n",
       "6             116 ST   358817987344   418141599239  3.588158e+11   \n",
       "106             7 AV   502416314635   302351183438  5.024175e+11   \n",
       "114            77 ST   163710203423    42914800853  1.637091e+11   \n",
       "48             23 ST   950279631345   792978667117  9.502787e+11   \n",
       "\n",
       "       PREV_EXITS  HOURLY_ENTRIES  HOURLY_EXITS  TOTAL_TRAFFIC  \n",
       "16   1.327280e+11       2146956.0     4502960.0      6649916.0  \n",
       "278  3.109776e+11       1829189.0     3894532.0      5723721.0  \n",
       "130  2.413783e+11       3153598.0     1966138.0      5119736.0  \n",
       "269  7.235990e+11       1462988.0     2938800.0      4401788.0  \n",
       "9    1.017674e+12       2311018.0     1848729.0      4159747.0  \n",
       "110  1.328905e+12       1704122.0     1645972.0      3350094.0  \n",
       "6    4.181408e+11       2175384.0      835830.0      3011214.0  \n",
       "106  3.023516e+11       1423406.0     1539247.0      2962653.0  \n",
       "114  4.291300e+10       1146062.0     1800569.0      2946631.0  \n",
       "48   7.929770e+11       1055394.0     1831332.0      2886726.0  "
      ]
     },
     "execution_count": 5,
     "metadata": {},
     "output_type": "execute_result"
    }
   ],
   "source": [
    "df_morning.sort_values('TOTAL_TRAFFIC', ascending=False, inplace=True)\n",
    "df_morning_top_10 = df_morning[0:10]\n",
    "df_morning_top_10"
   ]
  },
  {
   "cell_type": "code",
   "execution_count": 6,
   "metadata": {},
   "outputs": [
    {
     "data": {
      "text/html": [
       "<div>\n",
       "<style scoped>\n",
       "    .dataframe tbody tr th:only-of-type {\n",
       "        vertical-align: middle;\n",
       "    }\n",
       "\n",
       "    .dataframe tbody tr th {\n",
       "        vertical-align: top;\n",
       "    }\n",
       "\n",
       "    .dataframe thead th {\n",
       "        text-align: right;\n",
       "    }\n",
       "</style>\n",
       "<table border=\"1\" class=\"dataframe\">\n",
       "  <thead>\n",
       "    <tr style=\"text-align: right;\">\n",
       "      <th></th>\n",
       "      <th>STATION</th>\n",
       "      <th>ENTRIES</th>\n",
       "      <th>EXITS</th>\n",
       "      <th>PREV_ENTRIES</th>\n",
       "      <th>PREV_EXITS</th>\n",
       "      <th>HOURLY_ENTRIES</th>\n",
       "      <th>HOURLY_EXITS</th>\n",
       "      <th>TOTAL_TRAFFIC</th>\n",
       "    </tr>\n",
       "  </thead>\n",
       "  <tbody>\n",
       "    <tr>\n",
       "      <th>12</th>\n",
       "      <td>14 ST-UNION SQ</td>\n",
       "      <td>339044459774</td>\n",
       "      <td>131101383593</td>\n",
       "      <td>3.389212e+11</td>\n",
       "      <td>1.310961e+11</td>\n",
       "      <td>8015065.0</td>\n",
       "      <td>6380872.0</td>\n",
       "      <td>14395937.0</td>\n",
       "    </tr>\n",
       "    <tr>\n",
       "      <th>135</th>\n",
       "      <td>CANAL ST</td>\n",
       "      <td>1406941561105</td>\n",
       "      <td>1569439437126</td>\n",
       "      <td>1.407334e+12</td>\n",
       "      <td>1.568304e+12</td>\n",
       "      <td>4667053.0</td>\n",
       "      <td>2804462.0</td>\n",
       "      <td>7471515.0</td>\n",
       "    </tr>\n",
       "    <tr>\n",
       "      <th>85</th>\n",
       "      <td>96 ST</td>\n",
       "      <td>247086765200</td>\n",
       "      <td>236082343318</td>\n",
       "      <td>2.470825e+11</td>\n",
       "      <td>2.360795e+11</td>\n",
       "      <td>4315304.0</td>\n",
       "      <td>2871233.0</td>\n",
       "      <td>7186537.0</td>\n",
       "    </tr>\n",
       "    <tr>\n",
       "      <th>197</th>\n",
       "      <td>GRD CNTRL-42 ST</td>\n",
       "      <td>398386326464</td>\n",
       "      <td>293331865931</td>\n",
       "      <td>3.984041e+11</td>\n",
       "      <td>2.933448e+11</td>\n",
       "      <td>3830738.0</td>\n",
       "      <td>2719561.0</td>\n",
       "      <td>6550299.0</td>\n",
       "    </tr>\n",
       "    <tr>\n",
       "      <th>193</th>\n",
       "      <td>FULTON ST</td>\n",
       "      <td>262413314723</td>\n",
       "      <td>714187509268</td>\n",
       "      <td>2.624094e+11</td>\n",
       "      <td>7.141855e+11</td>\n",
       "      <td>4016165.0</td>\n",
       "      <td>2041568.0</td>\n",
       "      <td>6057733.0</td>\n",
       "    </tr>\n",
       "    <tr>\n",
       "      <th>68</th>\n",
       "      <td>72 ST</td>\n",
       "      <td>997357020241</td>\n",
       "      <td>1325438099265</td>\n",
       "      <td>9.973542e+11</td>\n",
       "      <td>1.325436e+12</td>\n",
       "      <td>2961194.0</td>\n",
       "      <td>2775444.0</td>\n",
       "      <td>5736638.0</td>\n",
       "    </tr>\n",
       "    <tr>\n",
       "      <th>6</th>\n",
       "      <td>125 ST</td>\n",
       "      <td>1851505281202</td>\n",
       "      <td>1003870346493</td>\n",
       "      <td>1.851503e+12</td>\n",
       "      <td>1.003868e+12</td>\n",
       "      <td>3418117.0</td>\n",
       "      <td>2246285.0</td>\n",
       "      <td>5664402.0</td>\n",
       "    </tr>\n",
       "    <tr>\n",
       "      <th>328</th>\n",
       "      <td>W 4 ST-WASH SQ</td>\n",
       "      <td>150772746604</td>\n",
       "      <td>136076499455</td>\n",
       "      <td>1.507699e+11</td>\n",
       "      <td>1.360739e+11</td>\n",
       "      <td>2805174.0</td>\n",
       "      <td>2645365.0</td>\n",
       "      <td>5450539.0</td>\n",
       "    </tr>\n",
       "    <tr>\n",
       "      <th>30</th>\n",
       "      <td>23 ST</td>\n",
       "      <td>949235425381</td>\n",
       "      <td>791063268169</td>\n",
       "      <td>9.492325e+11</td>\n",
       "      <td>7.910613e+11</td>\n",
       "      <td>3142320.0</td>\n",
       "      <td>2105726.0</td>\n",
       "      <td>5248046.0</td>\n",
       "    </tr>\n",
       "    <tr>\n",
       "      <th>36</th>\n",
       "      <td>28 ST</td>\n",
       "      <td>528902029466</td>\n",
       "      <td>706404489819</td>\n",
       "      <td>5.303243e+11</td>\n",
       "      <td>7.080114e+11</td>\n",
       "      <td>2621974.0</td>\n",
       "      <td>1723795.0</td>\n",
       "      <td>4345769.0</td>\n",
       "    </tr>\n",
       "  </tbody>\n",
       "</table>\n",
       "</div>"
      ],
      "text/plain": [
       "             STATION        ENTRIES          EXITS  PREV_ENTRIES  \\\n",
       "12    14 ST-UNION SQ   339044459774   131101383593  3.389212e+11   \n",
       "135         CANAL ST  1406941561105  1569439437126  1.407334e+12   \n",
       "85             96 ST   247086765200   236082343318  2.470825e+11   \n",
       "197  GRD CNTRL-42 ST   398386326464   293331865931  3.984041e+11   \n",
       "193        FULTON ST   262413314723   714187509268  2.624094e+11   \n",
       "68             72 ST   997357020241  1325438099265  9.973542e+11   \n",
       "6             125 ST  1851505281202  1003870346493  1.851503e+12   \n",
       "328   W 4 ST-WASH SQ   150772746604   136076499455  1.507699e+11   \n",
       "30             23 ST   949235425381   791063268169  9.492325e+11   \n",
       "36             28 ST   528902029466   706404489819  5.303243e+11   \n",
       "\n",
       "       PREV_EXITS  HOURLY_ENTRIES  HOURLY_EXITS  TOTAL_TRAFFIC  \n",
       "12   1.310961e+11       8015065.0     6380872.0     14395937.0  \n",
       "135  1.568304e+12       4667053.0     2804462.0      7471515.0  \n",
       "85   2.360795e+11       4315304.0     2871233.0      7186537.0  \n",
       "197  2.933448e+11       3830738.0     2719561.0      6550299.0  \n",
       "193  7.141855e+11       4016165.0     2041568.0      6057733.0  \n",
       "68   1.325436e+12       2961194.0     2775444.0      5736638.0  \n",
       "6    1.003868e+12       3418117.0     2246285.0      5664402.0  \n",
       "328  1.360739e+11       2805174.0     2645365.0      5450539.0  \n",
       "30   7.910613e+11       3142320.0     2105726.0      5248046.0  \n",
       "36   7.080114e+11       2621974.0     1723795.0      4345769.0  "
      ]
     },
     "execution_count": 6,
     "metadata": {},
     "output_type": "execute_result"
    }
   ],
   "source": [
    "df_evening.sort_values('TOTAL_TRAFFIC', ascending=False, inplace=True)\n",
    "df_evening_top_10 = df_evening[0:10]\n",
    "df_evening_top_10"
   ]
  },
  {
   "cell_type": "markdown",
   "metadata": {},
   "source": [
    "Load station location info."
   ]
  },
  {
   "cell_type": "code",
   "execution_count": 7,
   "metadata": {},
   "outputs": [
    {
     "data": {
      "text/html": [
       "<div>\n",
       "<style scoped>\n",
       "    .dataframe tbody tr th:only-of-type {\n",
       "        vertical-align: middle;\n",
       "    }\n",
       "\n",
       "    .dataframe tbody tr th {\n",
       "        vertical-align: top;\n",
       "    }\n",
       "\n",
       "    .dataframe thead th {\n",
       "        text-align: right;\n",
       "    }\n",
       "</style>\n",
       "<table border=\"1\" class=\"dataframe\">\n",
       "  <thead>\n",
       "    <tr style=\"text-align: right;\">\n",
       "      <th></th>\n",
       "      <th>Division</th>\n",
       "      <th>Line</th>\n",
       "      <th>Station Name</th>\n",
       "      <th>Station Latitude</th>\n",
       "      <th>Station Longitude</th>\n",
       "      <th>Route1</th>\n",
       "      <th>Route2</th>\n",
       "      <th>Route3</th>\n",
       "      <th>Route4</th>\n",
       "      <th>Route5</th>\n",
       "      <th>...</th>\n",
       "      <th>ADA</th>\n",
       "      <th>ADA Notes</th>\n",
       "      <th>Free Crossover</th>\n",
       "      <th>North South Street</th>\n",
       "      <th>East West Street</th>\n",
       "      <th>Corner</th>\n",
       "      <th>Entrance Latitude</th>\n",
       "      <th>Entrance Longitude</th>\n",
       "      <th>Station Location</th>\n",
       "      <th>Entrance Location</th>\n",
       "    </tr>\n",
       "  </thead>\n",
       "  <tbody>\n",
       "    <tr>\n",
       "      <th>0</th>\n",
       "      <td>BMT</td>\n",
       "      <td>4 Avenue</td>\n",
       "      <td>25th St</td>\n",
       "      <td>40.660397</td>\n",
       "      <td>-73.998091</td>\n",
       "      <td>R</td>\n",
       "      <td>NaN</td>\n",
       "      <td>NaN</td>\n",
       "      <td>NaN</td>\n",
       "      <td>NaN</td>\n",
       "      <td>...</td>\n",
       "      <td>False</td>\n",
       "      <td>NaN</td>\n",
       "      <td>False</td>\n",
       "      <td>4th Ave</td>\n",
       "      <td>25th St</td>\n",
       "      <td>SW</td>\n",
       "      <td>40.660489</td>\n",
       "      <td>-73.998220</td>\n",
       "      <td>(40.660397, -73.998091)</td>\n",
       "      <td>(40.660489, -73.99822)</td>\n",
       "    </tr>\n",
       "    <tr>\n",
       "      <th>2</th>\n",
       "      <td>BMT</td>\n",
       "      <td>4 Avenue</td>\n",
       "      <td>36th St</td>\n",
       "      <td>40.655144</td>\n",
       "      <td>-74.003549</td>\n",
       "      <td>N</td>\n",
       "      <td>R</td>\n",
       "      <td>NaN</td>\n",
       "      <td>NaN</td>\n",
       "      <td>NaN</td>\n",
       "      <td>...</td>\n",
       "      <td>False</td>\n",
       "      <td>NaN</td>\n",
       "      <td>True</td>\n",
       "      <td>4th Ave</td>\n",
       "      <td>36th St</td>\n",
       "      <td>NW</td>\n",
       "      <td>40.654676</td>\n",
       "      <td>-74.004306</td>\n",
       "      <td>(40.655144, -74.003549)</td>\n",
       "      <td>(40.654676, -74.004306)</td>\n",
       "    </tr>\n",
       "    <tr>\n",
       "      <th>5</th>\n",
       "      <td>BMT</td>\n",
       "      <td>4 Avenue</td>\n",
       "      <td>45th St</td>\n",
       "      <td>40.648939</td>\n",
       "      <td>-74.010006</td>\n",
       "      <td>R</td>\n",
       "      <td>NaN</td>\n",
       "      <td>NaN</td>\n",
       "      <td>NaN</td>\n",
       "      <td>NaN</td>\n",
       "      <td>...</td>\n",
       "      <td>False</td>\n",
       "      <td>NaN</td>\n",
       "      <td>True</td>\n",
       "      <td>4th Ave</td>\n",
       "      <td>45th St</td>\n",
       "      <td>NE</td>\n",
       "      <td>40.649389</td>\n",
       "      <td>-74.009333</td>\n",
       "      <td>(40.648939, -74.010006)</td>\n",
       "      <td>(40.649389, -74.009333)</td>\n",
       "    </tr>\n",
       "    <tr>\n",
       "      <th>9</th>\n",
       "      <td>BMT</td>\n",
       "      <td>4 Avenue</td>\n",
       "      <td>53rd St</td>\n",
       "      <td>40.645069</td>\n",
       "      <td>-74.014034</td>\n",
       "      <td>R</td>\n",
       "      <td>NaN</td>\n",
       "      <td>NaN</td>\n",
       "      <td>NaN</td>\n",
       "      <td>NaN</td>\n",
       "      <td>...</td>\n",
       "      <td>False</td>\n",
       "      <td>NaN</td>\n",
       "      <td>True</td>\n",
       "      <td>4th Ave</td>\n",
       "      <td>53rd St</td>\n",
       "      <td>SW</td>\n",
       "      <td>40.644756</td>\n",
       "      <td>-74.014586</td>\n",
       "      <td>(40.645069, -74.014034)</td>\n",
       "      <td>(40.644756, -74.014586)</td>\n",
       "    </tr>\n",
       "    <tr>\n",
       "      <th>14</th>\n",
       "      <td>BMT</td>\n",
       "      <td>4 Avenue</td>\n",
       "      <td>59th St</td>\n",
       "      <td>40.641362</td>\n",
       "      <td>-74.017881</td>\n",
       "      <td>N</td>\n",
       "      <td>R</td>\n",
       "      <td>NaN</td>\n",
       "      <td>NaN</td>\n",
       "      <td>NaN</td>\n",
       "      <td>...</td>\n",
       "      <td>False</td>\n",
       "      <td>NaN</td>\n",
       "      <td>True</td>\n",
       "      <td>4th Ave</td>\n",
       "      <td>59th St</td>\n",
       "      <td>NW</td>\n",
       "      <td>40.641606</td>\n",
       "      <td>-74.017897</td>\n",
       "      <td>(40.641362, -74.017881)</td>\n",
       "      <td>(40.641606, -74.017897)</td>\n",
       "    </tr>\n",
       "  </tbody>\n",
       "</table>\n",
       "<p>5 rows × 32 columns</p>\n",
       "</div>"
      ],
      "text/plain": [
       "   Division      Line Station Name  Station Latitude  Station Longitude  \\\n",
       "0       BMT  4 Avenue      25th St         40.660397         -73.998091   \n",
       "2       BMT  4 Avenue      36th St         40.655144         -74.003549   \n",
       "5       BMT  4 Avenue      45th St         40.648939         -74.010006   \n",
       "9       BMT  4 Avenue      53rd St         40.645069         -74.014034   \n",
       "14      BMT  4 Avenue      59th St         40.641362         -74.017881   \n",
       "\n",
       "   Route1 Route2 Route3 Route4 Route5  ...    ADA ADA Notes  Free Crossover  \\\n",
       "0       R    NaN    NaN    NaN    NaN  ...  False       NaN           False   \n",
       "2       N      R    NaN    NaN    NaN  ...  False       NaN            True   \n",
       "5       R    NaN    NaN    NaN    NaN  ...  False       NaN            True   \n",
       "9       R    NaN    NaN    NaN    NaN  ...  False       NaN            True   \n",
       "14      N      R    NaN    NaN    NaN  ...  False       NaN            True   \n",
       "\n",
       "    North South Street  East West Street  Corner Entrance Latitude  \\\n",
       "0              4th Ave           25th St      SW         40.660489   \n",
       "2              4th Ave           36th St      NW         40.654676   \n",
       "5              4th Ave           45th St      NE         40.649389   \n",
       "9              4th Ave           53rd St      SW         40.644756   \n",
       "14             4th Ave           59th St      NW         40.641606   \n",
       "\n",
       "   Entrance Longitude         Station Location        Entrance Location  \n",
       "0          -73.998220  (40.660397, -73.998091)   (40.660489, -73.99822)  \n",
       "2          -74.004306  (40.655144, -74.003549)  (40.654676, -74.004306)  \n",
       "5          -74.009333  (40.648939, -74.010006)  (40.649389, -74.009333)  \n",
       "9          -74.014586  (40.645069, -74.014034)  (40.644756, -74.014586)  \n",
       "14         -74.017897  (40.641362, -74.017881)  (40.641606, -74.017897)  \n",
       "\n",
       "[5 rows x 32 columns]"
      ]
     },
     "execution_count": 7,
     "metadata": {},
     "output_type": "execute_result"
    }
   ],
   "source": [
    "station_locations = pd.read_csv('raw_data/NYC_Transit_Subway_Entrance_And_Exit_Data.csv')\n",
    "station_locations.drop_duplicates('Station Name', inplace=True)\n",
    "station_locations.head()"
   ]
  },
  {
   "cell_type": "markdown",
   "metadata": {},
   "source": [
    "Change the station names to match the format in the MTA Station Location data loaded above."
   ]
  },
  {
   "cell_type": "code",
   "execution_count": 8,
   "metadata": {},
   "outputs": [
    {
     "name": "stderr",
     "output_type": "stream",
     "text": [
      "<ipython-input-8-e358c8fd269c>:1: SettingWithCopyWarning: \n",
      "A value is trying to be set on a copy of a slice from a DataFrame.\n",
      "Try using .loc[row_indexer,col_indexer] = value instead\n",
      "\n",
      "See the caveats in the documentation: https://pandas.pydata.org/pandas-docs/stable/user_guide/indexing.html#returning-a-view-versus-a-copy\n",
      "  df_morning_top_10['STATION'] = df_morning_top_10['STATION'].replace({\n",
      "<ipython-input-8-e358c8fd269c>:13: SettingWithCopyWarning: \n",
      "A value is trying to be set on a copy of a slice from a DataFrame.\n",
      "Try using .loc[row_indexer,col_indexer] = value instead\n",
      "\n",
      "See the caveats in the documentation: https://pandas.pydata.org/pandas-docs/stable/user_guide/indexing.html#returning-a-view-versus-a-copy\n",
      "  df_evening_top_10['STATION'] = df_evening_top_10['STATION'].replace({\n"
     ]
    }
   ],
   "source": [
    "df_morning_top_10['STATION'] = df_morning_top_10['STATION'].replace({\n",
    "    '14 ST-UNION SQ': 'Union Square',\n",
    "    'GRD CNTRL-42 ST': 'Grand Central-42nd St',\n",
    "    '96 ST': '96th St',\n",
    "    'FULTON ST': 'Fulton St',\n",
    "    '125 ST': '125th St',\n",
    "    '72 ST': '72nd St',\n",
    "    '116 ST': '116th St',\n",
    "    '7 AV': '7th Ave',\n",
    "    '77 ST': '77th St',\n",
    "    '23 ST': '23rd St',\n",
    "})\n",
    "df_evening_top_10['STATION'] = df_evening_top_10['STATION'].replace({\n",
    "    '14 ST-UNION SQ': 'Union Square',\n",
    "    'CANAL ST': 'Canal St',\n",
    "    '96 ST': '96th St',\n",
    "    'GRD CNTRL-42 ST': 'Grand Central-42nd St',\n",
    "    'FULTON ST': 'Fulton St',\n",
    "    '72 ST': '72nd St',\n",
    "    '125 ST': '125th St',\n",
    "    'W 4 ST-WASH SQ': 'West 4th St',\n",
    "    '23 ST': '23rd St',\n",
    "    '28 ST': '28th St'\n",
    "})"
   ]
  },
  {
   "cell_type": "markdown",
   "metadata": {},
   "source": [
    "Change column name to match MTA Station Location data, and merge to get latitude and longitudes in turnstile dataframe."
   ]
  },
  {
   "cell_type": "code",
   "execution_count": 11,
   "metadata": {},
   "outputs": [],
   "source": [
    "df_morning_top_10.rename(columns={'STATION': 'Station Name'}, inplace=True)\n",
    "df_morning_top_10 = df_morning_top_10.merge(station_locations, on='Station Name')\n",
    "\n",
    "df_evening_top_10.rename(columns={'STATION': 'Station Name'}, inplace=True)\n",
    "df_evening_top_10 = df_evening_top_10.merge(station_locations, on='Station Name')"
   ]
  },
  {
   "cell_type": "markdown",
   "metadata": {},
   "source": [
    "Plot top morning and evening locations."
   ]
  },
  {
   "cell_type": "code",
   "execution_count": 18,
   "metadata": {},
   "outputs": [
    {
     "data": {
      "application/vnd.plotly.v1+json": {
       "config": {
        "plotlyServerURL": "https://plot.ly"
       },
       "data": [
        {
         "hovertemplate": "Station Name=Union Square<br>HOURLY_ENTRIES=%{marker.size}<br>Entrance Latitude=%{lat}<br>Entrance Longitude=%{lon}<extra></extra>",
         "lat": [
          40.735278
         ],
         "legendgroup": "Union Square",
         "lon": [
          -73.991058
         ],
         "marker": {
          "color": "#636efa",
          "opacity": 0.5,
          "size": [
           2146956
          ],
          "sizemode": "area",
          "sizeref": 14015.99111111111
         },
         "mode": "markers",
         "name": "Union Square",
         "showlegend": true,
         "subplot": "mapbox",
         "type": "scattermapbox"
        },
        {
         "hovertemplate": "Station Name=Grand Central-42nd St<br>HOURLY_ENTRIES=%{marker.size}<br>Entrance Latitude=%{lat}<br>Entrance Longitude=%{lon}<extra></extra>",
         "lat": [
          40.750851000000004
         ],
         "legendgroup": "Grand Central-42nd St",
         "lon": [
          -73.975078
         ],
         "marker": {
          "color": "#EF553B",
          "opacity": 0.5,
          "size": [
           1829189
          ],
          "sizemode": "area",
          "sizeref": 14015.99111111111
         },
         "mode": "markers",
         "name": "Grand Central-42nd St",
         "showlegend": true,
         "subplot": "mapbox",
         "type": "scattermapbox"
        },
        {
         "hovertemplate": "Station Name=96th St<br>HOURLY_ENTRIES=%{marker.size}<br>Entrance Latitude=%{lat}<br>Entrance Longitude=%{lon}<extra></extra>",
         "lat": [
          40.792590999999994
         ],
         "legendgroup": "96th St",
         "lon": [
          -73.964316
         ],
         "marker": {
          "color": "#00cc96",
          "opacity": 0.5,
          "size": [
           3153598
          ],
          "sizemode": "area",
          "sizeref": 14015.99111111111
         },
         "mode": "markers",
         "name": "96th St",
         "showlegend": true,
         "subplot": "mapbox",
         "type": "scattermapbox"
        },
        {
         "hovertemplate": "Station Name=Fulton St<br>HOURLY_ENTRIES=%{marker.size}<br>Entrance Latitude=%{lat}<br>Entrance Longitude=%{lon}<extra></extra>",
         "lat": [
          40.709507
         ],
         "legendgroup": "Fulton St",
         "lon": [
          -74.00829499999999
         ],
         "marker": {
          "color": "#ab63fa",
          "opacity": 0.5,
          "size": [
           1462988
          ],
          "sizemode": "area",
          "sizeref": 14015.99111111111
         },
         "mode": "markers",
         "name": "Fulton St",
         "showlegend": true,
         "subplot": "mapbox",
         "type": "scattermapbox"
        },
        {
         "hovertemplate": "Station Name=125th St<br>HOURLY_ENTRIES=%{marker.size}<br>Entrance Latitude=%{lat}<br>Entrance Longitude=%{lon}<extra></extra>",
         "lat": [
          40.811007000000004
         ],
         "legendgroup": "125th St",
         "lon": [
          -73.95261500000001
         ],
         "marker": {
          "color": "#FFA15A",
          "opacity": 0.5,
          "size": [
           2311018
          ],
          "sizemode": "area",
          "sizeref": 14015.99111111111
         },
         "mode": "markers",
         "name": "125th St",
         "showlegend": true,
         "subplot": "mapbox",
         "type": "scattermapbox"
        },
        {
         "hovertemplate": "Station Name=72nd St<br>HOURLY_ENTRIES=%{marker.size}<br>Entrance Latitude=%{lat}<br>Entrance Longitude=%{lon}<extra></extra>",
         "lat": [
          40.776216999999995
         ],
         "legendgroup": "72nd St",
         "lon": [
          -73.976247
         ],
         "marker": {
          "color": "#19d3f3",
          "opacity": 0.5,
          "size": [
           1704122
          ],
          "sizemode": "area",
          "sizeref": 14015.99111111111
         },
         "mode": "markers",
         "name": "72nd St",
         "showlegend": true,
         "subplot": "mapbox",
         "type": "scattermapbox"
        },
        {
         "hovertemplate": "Station Name=116th St<br>HOURLY_ENTRIES=%{marker.size}<br>Entrance Latitude=%{lat}<br>Entrance Longitude=%{lon}<extra></extra>",
         "lat": [
          40.804171999999994
         ],
         "legendgroup": "116th St",
         "lon": [
          -73.95513100000001
         ],
         "marker": {
          "color": "#FF6692",
          "opacity": 0.5,
          "size": [
           2175384
          ],
          "sizemode": "area",
          "sizeref": 14015.99111111111
         },
         "mode": "markers",
         "name": "116th St",
         "showlegend": true,
         "subplot": "mapbox",
         "type": "scattermapbox"
        },
        {
         "hovertemplate": "Station Name=77th St<br>HOURLY_ENTRIES=%{marker.size}<br>Entrance Latitude=%{lat}<br>Entrance Longitude=%{lon}<extra></extra>",
         "lat": [
          40.62955
         ],
         "legendgroup": "77th St",
         "lon": [
          -74.02573100000001
         ],
         "marker": {
          "color": "#B6E880",
          "opacity": 0.5,
          "size": [
           1146062
          ],
          "sizemode": "area",
          "sizeref": 14015.99111111111
         },
         "mode": "markers",
         "name": "77th St",
         "showlegend": true,
         "subplot": "mapbox",
         "type": "scattermapbox"
        },
        {
         "hovertemplate": "Station Name=23rd St<br>HOURLY_ENTRIES=%{marker.size}<br>Entrance Latitude=%{lat}<br>Entrance Longitude=%{lon}<extra></extra>",
         "lat": [
          40.74108
         ],
         "legendgroup": "23rd St",
         "lon": [
          -73.989083
         ],
         "marker": {
          "color": "#FF97FF",
          "opacity": 0.5,
          "size": [
           1055394
          ],
          "sizemode": "area",
          "sizeref": 14015.99111111111
         },
         "mode": "markers",
         "name": "23rd St",
         "showlegend": true,
         "subplot": "mapbox",
         "type": "scattermapbox"
        }
       ],
       "layout": {
        "height": 800,
        "legend": {
         "itemsizing": "constant",
         "title": {
          "text": "Station Name"
         },
         "tracegroupgap": 0
        },
        "mapbox": {
         "accesstoken": "pk.eyJ1Ijoic3RldmVqa2FwbGFuIiwiYSI6ImNrYzU5cmU4MTAzZnMydGpoYW9samtjemsifQ.4vpWJGjiGUC-K389B4JdbA",
         "center": {
          "lat": 40.75002811111111,
          "lon": -73.98195044444444
         },
         "domain": {
          "x": [
           0,
           1
          ],
          "y": [
           0,
           1
          ]
         },
         "style": "light",
         "zoom": 11
        },
        "template": {
         "data": {
          "bar": [
           {
            "error_x": {
             "color": "#2a3f5f"
            },
            "error_y": {
             "color": "#2a3f5f"
            },
            "marker": {
             "line": {
              "color": "#E5ECF6",
              "width": 0.5
             }
            },
            "type": "bar"
           }
          ],
          "barpolar": [
           {
            "marker": {
             "line": {
              "color": "#E5ECF6",
              "width": 0.5
             }
            },
            "type": "barpolar"
           }
          ],
          "carpet": [
           {
            "aaxis": {
             "endlinecolor": "#2a3f5f",
             "gridcolor": "white",
             "linecolor": "white",
             "minorgridcolor": "white",
             "startlinecolor": "#2a3f5f"
            },
            "baxis": {
             "endlinecolor": "#2a3f5f",
             "gridcolor": "white",
             "linecolor": "white",
             "minorgridcolor": "white",
             "startlinecolor": "#2a3f5f"
            },
            "type": "carpet"
           }
          ],
          "choropleth": [
           {
            "colorbar": {
             "outlinewidth": 0,
             "ticks": ""
            },
            "type": "choropleth"
           }
          ],
          "contour": [
           {
            "colorbar": {
             "outlinewidth": 0,
             "ticks": ""
            },
            "colorscale": [
             [
              0,
              "#0d0887"
             ],
             [
              0.1111111111111111,
              "#46039f"
             ],
             [
              0.2222222222222222,
              "#7201a8"
             ],
             [
              0.3333333333333333,
              "#9c179e"
             ],
             [
              0.4444444444444444,
              "#bd3786"
             ],
             [
              0.5555555555555556,
              "#d8576b"
             ],
             [
              0.6666666666666666,
              "#ed7953"
             ],
             [
              0.7777777777777778,
              "#fb9f3a"
             ],
             [
              0.8888888888888888,
              "#fdca26"
             ],
             [
              1,
              "#f0f921"
             ]
            ],
            "type": "contour"
           }
          ],
          "contourcarpet": [
           {
            "colorbar": {
             "outlinewidth": 0,
             "ticks": ""
            },
            "type": "contourcarpet"
           }
          ],
          "heatmap": [
           {
            "colorbar": {
             "outlinewidth": 0,
             "ticks": ""
            },
            "colorscale": [
             [
              0,
              "#0d0887"
             ],
             [
              0.1111111111111111,
              "#46039f"
             ],
             [
              0.2222222222222222,
              "#7201a8"
             ],
             [
              0.3333333333333333,
              "#9c179e"
             ],
             [
              0.4444444444444444,
              "#bd3786"
             ],
             [
              0.5555555555555556,
              "#d8576b"
             ],
             [
              0.6666666666666666,
              "#ed7953"
             ],
             [
              0.7777777777777778,
              "#fb9f3a"
             ],
             [
              0.8888888888888888,
              "#fdca26"
             ],
             [
              1,
              "#f0f921"
             ]
            ],
            "type": "heatmap"
           }
          ],
          "heatmapgl": [
           {
            "colorbar": {
             "outlinewidth": 0,
             "ticks": ""
            },
            "colorscale": [
             [
              0,
              "#0d0887"
             ],
             [
              0.1111111111111111,
              "#46039f"
             ],
             [
              0.2222222222222222,
              "#7201a8"
             ],
             [
              0.3333333333333333,
              "#9c179e"
             ],
             [
              0.4444444444444444,
              "#bd3786"
             ],
             [
              0.5555555555555556,
              "#d8576b"
             ],
             [
              0.6666666666666666,
              "#ed7953"
             ],
             [
              0.7777777777777778,
              "#fb9f3a"
             ],
             [
              0.8888888888888888,
              "#fdca26"
             ],
             [
              1,
              "#f0f921"
             ]
            ],
            "type": "heatmapgl"
           }
          ],
          "histogram": [
           {
            "marker": {
             "colorbar": {
              "outlinewidth": 0,
              "ticks": ""
             }
            },
            "type": "histogram"
           }
          ],
          "histogram2d": [
           {
            "colorbar": {
             "outlinewidth": 0,
             "ticks": ""
            },
            "colorscale": [
             [
              0,
              "#0d0887"
             ],
             [
              0.1111111111111111,
              "#46039f"
             ],
             [
              0.2222222222222222,
              "#7201a8"
             ],
             [
              0.3333333333333333,
              "#9c179e"
             ],
             [
              0.4444444444444444,
              "#bd3786"
             ],
             [
              0.5555555555555556,
              "#d8576b"
             ],
             [
              0.6666666666666666,
              "#ed7953"
             ],
             [
              0.7777777777777778,
              "#fb9f3a"
             ],
             [
              0.8888888888888888,
              "#fdca26"
             ],
             [
              1,
              "#f0f921"
             ]
            ],
            "type": "histogram2d"
           }
          ],
          "histogram2dcontour": [
           {
            "colorbar": {
             "outlinewidth": 0,
             "ticks": ""
            },
            "colorscale": [
             [
              0,
              "#0d0887"
             ],
             [
              0.1111111111111111,
              "#46039f"
             ],
             [
              0.2222222222222222,
              "#7201a8"
             ],
             [
              0.3333333333333333,
              "#9c179e"
             ],
             [
              0.4444444444444444,
              "#bd3786"
             ],
             [
              0.5555555555555556,
              "#d8576b"
             ],
             [
              0.6666666666666666,
              "#ed7953"
             ],
             [
              0.7777777777777778,
              "#fb9f3a"
             ],
             [
              0.8888888888888888,
              "#fdca26"
             ],
             [
              1,
              "#f0f921"
             ]
            ],
            "type": "histogram2dcontour"
           }
          ],
          "mesh3d": [
           {
            "colorbar": {
             "outlinewidth": 0,
             "ticks": ""
            },
            "type": "mesh3d"
           }
          ],
          "parcoords": [
           {
            "line": {
             "colorbar": {
              "outlinewidth": 0,
              "ticks": ""
             }
            },
            "type": "parcoords"
           }
          ],
          "pie": [
           {
            "automargin": true,
            "type": "pie"
           }
          ],
          "scatter": [
           {
            "marker": {
             "colorbar": {
              "outlinewidth": 0,
              "ticks": ""
             }
            },
            "type": "scatter"
           }
          ],
          "scatter3d": [
           {
            "line": {
             "colorbar": {
              "outlinewidth": 0,
              "ticks": ""
             }
            },
            "marker": {
             "colorbar": {
              "outlinewidth": 0,
              "ticks": ""
             }
            },
            "type": "scatter3d"
           }
          ],
          "scattercarpet": [
           {
            "marker": {
             "colorbar": {
              "outlinewidth": 0,
              "ticks": ""
             }
            },
            "type": "scattercarpet"
           }
          ],
          "scattergeo": [
           {
            "marker": {
             "colorbar": {
              "outlinewidth": 0,
              "ticks": ""
             }
            },
            "type": "scattergeo"
           }
          ],
          "scattergl": [
           {
            "marker": {
             "colorbar": {
              "outlinewidth": 0,
              "ticks": ""
             }
            },
            "type": "scattergl"
           }
          ],
          "scattermapbox": [
           {
            "marker": {
             "colorbar": {
              "outlinewidth": 0,
              "ticks": ""
             }
            },
            "type": "scattermapbox"
           }
          ],
          "scatterpolar": [
           {
            "marker": {
             "colorbar": {
              "outlinewidth": 0,
              "ticks": ""
             }
            },
            "type": "scatterpolar"
           }
          ],
          "scatterpolargl": [
           {
            "marker": {
             "colorbar": {
              "outlinewidth": 0,
              "ticks": ""
             }
            },
            "type": "scatterpolargl"
           }
          ],
          "scatterternary": [
           {
            "marker": {
             "colorbar": {
              "outlinewidth": 0,
              "ticks": ""
             }
            },
            "type": "scatterternary"
           }
          ],
          "surface": [
           {
            "colorbar": {
             "outlinewidth": 0,
             "ticks": ""
            },
            "colorscale": [
             [
              0,
              "#0d0887"
             ],
             [
              0.1111111111111111,
              "#46039f"
             ],
             [
              0.2222222222222222,
              "#7201a8"
             ],
             [
              0.3333333333333333,
              "#9c179e"
             ],
             [
              0.4444444444444444,
              "#bd3786"
             ],
             [
              0.5555555555555556,
              "#d8576b"
             ],
             [
              0.6666666666666666,
              "#ed7953"
             ],
             [
              0.7777777777777778,
              "#fb9f3a"
             ],
             [
              0.8888888888888888,
              "#fdca26"
             ],
             [
              1,
              "#f0f921"
             ]
            ],
            "type": "surface"
           }
          ],
          "table": [
           {
            "cells": {
             "fill": {
              "color": "#EBF0F8"
             },
             "line": {
              "color": "white"
             }
            },
            "header": {
             "fill": {
              "color": "#C8D4E3"
             },
             "line": {
              "color": "white"
             }
            },
            "type": "table"
           }
          ]
         },
         "layout": {
          "annotationdefaults": {
           "arrowcolor": "#2a3f5f",
           "arrowhead": 0,
           "arrowwidth": 1
          },
          "coloraxis": {
           "colorbar": {
            "outlinewidth": 0,
            "ticks": ""
           }
          },
          "colorscale": {
           "diverging": [
            [
             0,
             "#8e0152"
            ],
            [
             0.1,
             "#c51b7d"
            ],
            [
             0.2,
             "#de77ae"
            ],
            [
             0.3,
             "#f1b6da"
            ],
            [
             0.4,
             "#fde0ef"
            ],
            [
             0.5,
             "#f7f7f7"
            ],
            [
             0.6,
             "#e6f5d0"
            ],
            [
             0.7,
             "#b8e186"
            ],
            [
             0.8,
             "#7fbc41"
            ],
            [
             0.9,
             "#4d9221"
            ],
            [
             1,
             "#276419"
            ]
           ],
           "sequential": [
            [
             0,
             "#0d0887"
            ],
            [
             0.1111111111111111,
             "#46039f"
            ],
            [
             0.2222222222222222,
             "#7201a8"
            ],
            [
             0.3333333333333333,
             "#9c179e"
            ],
            [
             0.4444444444444444,
             "#bd3786"
            ],
            [
             0.5555555555555556,
             "#d8576b"
            ],
            [
             0.6666666666666666,
             "#ed7953"
            ],
            [
             0.7777777777777778,
             "#fb9f3a"
            ],
            [
             0.8888888888888888,
             "#fdca26"
            ],
            [
             1,
             "#f0f921"
            ]
           ],
           "sequentialminus": [
            [
             0,
             "#0d0887"
            ],
            [
             0.1111111111111111,
             "#46039f"
            ],
            [
             0.2222222222222222,
             "#7201a8"
            ],
            [
             0.3333333333333333,
             "#9c179e"
            ],
            [
             0.4444444444444444,
             "#bd3786"
            ],
            [
             0.5555555555555556,
             "#d8576b"
            ],
            [
             0.6666666666666666,
             "#ed7953"
            ],
            [
             0.7777777777777778,
             "#fb9f3a"
            ],
            [
             0.8888888888888888,
             "#fdca26"
            ],
            [
             1,
             "#f0f921"
            ]
           ]
          },
          "colorway": [
           "#636efa",
           "#EF553B",
           "#00cc96",
           "#ab63fa",
           "#FFA15A",
           "#19d3f3",
           "#FF6692",
           "#B6E880",
           "#FF97FF",
           "#FECB52"
          ],
          "font": {
           "color": "#2a3f5f"
          },
          "geo": {
           "bgcolor": "white",
           "lakecolor": "white",
           "landcolor": "#E5ECF6",
           "showlakes": true,
           "showland": true,
           "subunitcolor": "white"
          },
          "hoverlabel": {
           "align": "left"
          },
          "hovermode": "closest",
          "mapbox": {
           "style": "light"
          },
          "paper_bgcolor": "white",
          "plot_bgcolor": "#E5ECF6",
          "polar": {
           "angularaxis": {
            "gridcolor": "white",
            "linecolor": "white",
            "ticks": ""
           },
           "bgcolor": "#E5ECF6",
           "radialaxis": {
            "gridcolor": "white",
            "linecolor": "white",
            "ticks": ""
           }
          },
          "scene": {
           "xaxis": {
            "backgroundcolor": "#E5ECF6",
            "gridcolor": "white",
            "gridwidth": 2,
            "linecolor": "white",
            "showbackground": true,
            "ticks": "",
            "zerolinecolor": "white"
           },
           "yaxis": {
            "backgroundcolor": "#E5ECF6",
            "gridcolor": "white",
            "gridwidth": 2,
            "linecolor": "white",
            "showbackground": true,
            "ticks": "",
            "zerolinecolor": "white"
           },
           "zaxis": {
            "backgroundcolor": "#E5ECF6",
            "gridcolor": "white",
            "gridwidth": 2,
            "linecolor": "white",
            "showbackground": true,
            "ticks": "",
            "zerolinecolor": "white"
           }
          },
          "shapedefaults": {
           "line": {
            "color": "#2a3f5f"
           }
          },
          "ternary": {
           "aaxis": {
            "gridcolor": "white",
            "linecolor": "white",
            "ticks": ""
           },
           "baxis": {
            "gridcolor": "white",
            "linecolor": "white",
            "ticks": ""
           },
           "bgcolor": "#E5ECF6",
           "caxis": {
            "gridcolor": "white",
            "linecolor": "white",
            "ticks": ""
           }
          },
          "title": {
           "x": 0.05
          },
          "xaxis": {
           "automargin": true,
           "gridcolor": "white",
           "linecolor": "white",
           "ticks": "",
           "title": {
            "standoff": 15
           },
           "zerolinecolor": "white",
           "zerolinewidth": 2
          },
          "yaxis": {
           "automargin": true,
           "gridcolor": "white",
           "linecolor": "white",
           "ticks": "",
           "title": {
            "standoff": 15
           },
           "zerolinecolor": "white",
           "zerolinewidth": 2
          }
         }
        },
        "title": {
         "text": "Top 10 Stations: Morning Commute at ?AM"
        },
        "width": 600
       }
      },
      "text/html": [
       "<div>\n",
       "        \n",
       "        \n",
       "            <div id=\"9285d0eb-6fcb-4d3e-84d0-6bfcd58f762e\" class=\"plotly-graph-div\" style=\"height:800px; width:600px;\"></div>\n",
       "            <script type=\"text/javascript\">\n",
       "                require([\"plotly\"], function(Plotly) {\n",
       "                    window.PLOTLYENV=window.PLOTLYENV || {};\n",
       "                    \n",
       "                if (document.getElementById(\"9285d0eb-6fcb-4d3e-84d0-6bfcd58f762e\")) {\n",
       "                    Plotly.newPlot(\n",
       "                        '9285d0eb-6fcb-4d3e-84d0-6bfcd58f762e',\n",
       "                        [{\"hovertemplate\": \"Station Name=Union Square<br>HOURLY_ENTRIES=%{marker.size}<br>Entrance Latitude=%{lat}<br>Entrance Longitude=%{lon}<extra></extra>\", \"lat\": [40.735278], \"legendgroup\": \"Union Square\", \"lon\": [-73.991058], \"marker\": {\"color\": \"#636efa\", \"opacity\": 0.5, \"size\": [2146956.0], \"sizemode\": \"area\", \"sizeref\": 14015.99111111111}, \"mode\": \"markers\", \"name\": \"Union Square\", \"showlegend\": true, \"subplot\": \"mapbox\", \"type\": \"scattermapbox\"}, {\"hovertemplate\": \"Station Name=Grand Central-42nd St<br>HOURLY_ENTRIES=%{marker.size}<br>Entrance Latitude=%{lat}<br>Entrance Longitude=%{lon}<extra></extra>\", \"lat\": [40.750851000000004], \"legendgroup\": \"Grand Central-42nd St\", \"lon\": [-73.975078], \"marker\": {\"color\": \"#EF553B\", \"opacity\": 0.5, \"size\": [1829189.0], \"sizemode\": \"area\", \"sizeref\": 14015.99111111111}, \"mode\": \"markers\", \"name\": \"Grand Central-42nd St\", \"showlegend\": true, \"subplot\": \"mapbox\", \"type\": \"scattermapbox\"}, {\"hovertemplate\": \"Station Name=96th St<br>HOURLY_ENTRIES=%{marker.size}<br>Entrance Latitude=%{lat}<br>Entrance Longitude=%{lon}<extra></extra>\", \"lat\": [40.792590999999994], \"legendgroup\": \"96th St\", \"lon\": [-73.964316], \"marker\": {\"color\": \"#00cc96\", \"opacity\": 0.5, \"size\": [3153598.0], \"sizemode\": \"area\", \"sizeref\": 14015.99111111111}, \"mode\": \"markers\", \"name\": \"96th St\", \"showlegend\": true, \"subplot\": \"mapbox\", \"type\": \"scattermapbox\"}, {\"hovertemplate\": \"Station Name=Fulton St<br>HOURLY_ENTRIES=%{marker.size}<br>Entrance Latitude=%{lat}<br>Entrance Longitude=%{lon}<extra></extra>\", \"lat\": [40.709507], \"legendgroup\": \"Fulton St\", \"lon\": [-74.00829499999999], \"marker\": {\"color\": \"#ab63fa\", \"opacity\": 0.5, \"size\": [1462988.0], \"sizemode\": \"area\", \"sizeref\": 14015.99111111111}, \"mode\": \"markers\", \"name\": \"Fulton St\", \"showlegend\": true, \"subplot\": \"mapbox\", \"type\": \"scattermapbox\"}, {\"hovertemplate\": \"Station Name=125th St<br>HOURLY_ENTRIES=%{marker.size}<br>Entrance Latitude=%{lat}<br>Entrance Longitude=%{lon}<extra></extra>\", \"lat\": [40.811007000000004], \"legendgroup\": \"125th St\", \"lon\": [-73.95261500000001], \"marker\": {\"color\": \"#FFA15A\", \"opacity\": 0.5, \"size\": [2311018.0], \"sizemode\": \"area\", \"sizeref\": 14015.99111111111}, \"mode\": \"markers\", \"name\": \"125th St\", \"showlegend\": true, \"subplot\": \"mapbox\", \"type\": \"scattermapbox\"}, {\"hovertemplate\": \"Station Name=72nd St<br>HOURLY_ENTRIES=%{marker.size}<br>Entrance Latitude=%{lat}<br>Entrance Longitude=%{lon}<extra></extra>\", \"lat\": [40.776216999999995], \"legendgroup\": \"72nd St\", \"lon\": [-73.976247], \"marker\": {\"color\": \"#19d3f3\", \"opacity\": 0.5, \"size\": [1704122.0], \"sizemode\": \"area\", \"sizeref\": 14015.99111111111}, \"mode\": \"markers\", \"name\": \"72nd St\", \"showlegend\": true, \"subplot\": \"mapbox\", \"type\": \"scattermapbox\"}, {\"hovertemplate\": \"Station Name=116th St<br>HOURLY_ENTRIES=%{marker.size}<br>Entrance Latitude=%{lat}<br>Entrance Longitude=%{lon}<extra></extra>\", \"lat\": [40.804171999999994], \"legendgroup\": \"116th St\", \"lon\": [-73.95513100000001], \"marker\": {\"color\": \"#FF6692\", \"opacity\": 0.5, \"size\": [2175384.0], \"sizemode\": \"area\", \"sizeref\": 14015.99111111111}, \"mode\": \"markers\", \"name\": \"116th St\", \"showlegend\": true, \"subplot\": \"mapbox\", \"type\": \"scattermapbox\"}, {\"hovertemplate\": \"Station Name=77th St<br>HOURLY_ENTRIES=%{marker.size}<br>Entrance Latitude=%{lat}<br>Entrance Longitude=%{lon}<extra></extra>\", \"lat\": [40.62955], \"legendgroup\": \"77th St\", \"lon\": [-74.02573100000001], \"marker\": {\"color\": \"#B6E880\", \"opacity\": 0.5, \"size\": [1146062.0], \"sizemode\": \"area\", \"sizeref\": 14015.99111111111}, \"mode\": \"markers\", \"name\": \"77th St\", \"showlegend\": true, \"subplot\": \"mapbox\", \"type\": \"scattermapbox\"}, {\"hovertemplate\": \"Station Name=23rd St<br>HOURLY_ENTRIES=%{marker.size}<br>Entrance Latitude=%{lat}<br>Entrance Longitude=%{lon}<extra></extra>\", \"lat\": [40.74108], \"legendgroup\": \"23rd St\", \"lon\": [-73.989083], \"marker\": {\"color\": \"#FF97FF\", \"opacity\": 0.5, \"size\": [1055394.0], \"sizemode\": \"area\", \"sizeref\": 14015.99111111111}, \"mode\": \"markers\", \"name\": \"23rd St\", \"showlegend\": true, \"subplot\": \"mapbox\", \"type\": \"scattermapbox\"}],\n",
       "                        {\"height\": 800, \"legend\": {\"itemsizing\": \"constant\", \"title\": {\"text\": \"Station Name\"}, \"tracegroupgap\": 0}, \"mapbox\": {\"accesstoken\": \"pk.eyJ1Ijoic3RldmVqa2FwbGFuIiwiYSI6ImNrYzU5cmU4MTAzZnMydGpoYW9samtjemsifQ.4vpWJGjiGUC-K389B4JdbA\", \"center\": {\"lat\": 40.75002811111111, \"lon\": -73.98195044444444}, \"domain\": {\"x\": [0.0, 1.0], \"y\": [0.0, 1.0]}, \"style\": \"light\", \"zoom\": 11}, \"template\": {\"data\": {\"bar\": [{\"error_x\": {\"color\": \"#2a3f5f\"}, \"error_y\": {\"color\": \"#2a3f5f\"}, \"marker\": {\"line\": {\"color\": \"#E5ECF6\", \"width\": 0.5}}, \"type\": \"bar\"}], \"barpolar\": [{\"marker\": {\"line\": {\"color\": \"#E5ECF6\", \"width\": 0.5}}, \"type\": \"barpolar\"}], \"carpet\": [{\"aaxis\": {\"endlinecolor\": \"#2a3f5f\", \"gridcolor\": \"white\", \"linecolor\": \"white\", \"minorgridcolor\": \"white\", \"startlinecolor\": \"#2a3f5f\"}, \"baxis\": {\"endlinecolor\": \"#2a3f5f\", \"gridcolor\": \"white\", \"linecolor\": \"white\", \"minorgridcolor\": \"white\", \"startlinecolor\": \"#2a3f5f\"}, \"type\": \"carpet\"}], \"choropleth\": [{\"colorbar\": {\"outlinewidth\": 0, \"ticks\": \"\"}, \"type\": \"choropleth\"}], \"contour\": [{\"colorbar\": {\"outlinewidth\": 0, \"ticks\": \"\"}, \"colorscale\": [[0.0, \"#0d0887\"], [0.1111111111111111, \"#46039f\"], [0.2222222222222222, \"#7201a8\"], [0.3333333333333333, \"#9c179e\"], [0.4444444444444444, \"#bd3786\"], [0.5555555555555556, \"#d8576b\"], [0.6666666666666666, \"#ed7953\"], [0.7777777777777778, \"#fb9f3a\"], [0.8888888888888888, \"#fdca26\"], [1.0, \"#f0f921\"]], \"type\": \"contour\"}], \"contourcarpet\": [{\"colorbar\": {\"outlinewidth\": 0, \"ticks\": \"\"}, \"type\": \"contourcarpet\"}], \"heatmap\": [{\"colorbar\": {\"outlinewidth\": 0, \"ticks\": \"\"}, \"colorscale\": [[0.0, \"#0d0887\"], [0.1111111111111111, \"#46039f\"], [0.2222222222222222, \"#7201a8\"], [0.3333333333333333, \"#9c179e\"], [0.4444444444444444, \"#bd3786\"], [0.5555555555555556, \"#d8576b\"], [0.6666666666666666, \"#ed7953\"], [0.7777777777777778, \"#fb9f3a\"], [0.8888888888888888, \"#fdca26\"], [1.0, \"#f0f921\"]], \"type\": \"heatmap\"}], \"heatmapgl\": [{\"colorbar\": {\"outlinewidth\": 0, \"ticks\": \"\"}, \"colorscale\": [[0.0, \"#0d0887\"], [0.1111111111111111, \"#46039f\"], [0.2222222222222222, \"#7201a8\"], [0.3333333333333333, \"#9c179e\"], [0.4444444444444444, \"#bd3786\"], [0.5555555555555556, \"#d8576b\"], [0.6666666666666666, \"#ed7953\"], [0.7777777777777778, \"#fb9f3a\"], [0.8888888888888888, \"#fdca26\"], [1.0, \"#f0f921\"]], \"type\": \"heatmapgl\"}], \"histogram\": [{\"marker\": {\"colorbar\": {\"outlinewidth\": 0, \"ticks\": \"\"}}, \"type\": \"histogram\"}], \"histogram2d\": [{\"colorbar\": {\"outlinewidth\": 0, \"ticks\": \"\"}, \"colorscale\": [[0.0, \"#0d0887\"], [0.1111111111111111, \"#46039f\"], [0.2222222222222222, \"#7201a8\"], [0.3333333333333333, \"#9c179e\"], [0.4444444444444444, \"#bd3786\"], [0.5555555555555556, \"#d8576b\"], [0.6666666666666666, \"#ed7953\"], [0.7777777777777778, \"#fb9f3a\"], [0.8888888888888888, \"#fdca26\"], [1.0, \"#f0f921\"]], \"type\": \"histogram2d\"}], \"histogram2dcontour\": [{\"colorbar\": {\"outlinewidth\": 0, \"ticks\": \"\"}, \"colorscale\": [[0.0, \"#0d0887\"], [0.1111111111111111, \"#46039f\"], [0.2222222222222222, \"#7201a8\"], [0.3333333333333333, \"#9c179e\"], [0.4444444444444444, \"#bd3786\"], [0.5555555555555556, \"#d8576b\"], [0.6666666666666666, \"#ed7953\"], [0.7777777777777778, \"#fb9f3a\"], [0.8888888888888888, \"#fdca26\"], [1.0, \"#f0f921\"]], \"type\": \"histogram2dcontour\"}], \"mesh3d\": [{\"colorbar\": {\"outlinewidth\": 0, \"ticks\": \"\"}, \"type\": \"mesh3d\"}], \"parcoords\": [{\"line\": {\"colorbar\": {\"outlinewidth\": 0, \"ticks\": \"\"}}, \"type\": \"parcoords\"}], \"pie\": [{\"automargin\": true, \"type\": \"pie\"}], \"scatter\": [{\"marker\": {\"colorbar\": {\"outlinewidth\": 0, \"ticks\": \"\"}}, \"type\": \"scatter\"}], \"scatter3d\": [{\"line\": {\"colorbar\": {\"outlinewidth\": 0, \"ticks\": \"\"}}, \"marker\": {\"colorbar\": {\"outlinewidth\": 0, \"ticks\": \"\"}}, \"type\": \"scatter3d\"}], \"scattercarpet\": [{\"marker\": {\"colorbar\": {\"outlinewidth\": 0, \"ticks\": \"\"}}, \"type\": \"scattercarpet\"}], \"scattergeo\": [{\"marker\": {\"colorbar\": {\"outlinewidth\": 0, \"ticks\": \"\"}}, \"type\": \"scattergeo\"}], \"scattergl\": [{\"marker\": {\"colorbar\": {\"outlinewidth\": 0, \"ticks\": \"\"}}, \"type\": \"scattergl\"}], \"scattermapbox\": [{\"marker\": {\"colorbar\": {\"outlinewidth\": 0, \"ticks\": \"\"}}, \"type\": \"scattermapbox\"}], \"scatterpolar\": [{\"marker\": {\"colorbar\": {\"outlinewidth\": 0, \"ticks\": \"\"}}, \"type\": \"scatterpolar\"}], \"scatterpolargl\": [{\"marker\": {\"colorbar\": {\"outlinewidth\": 0, \"ticks\": \"\"}}, \"type\": \"scatterpolargl\"}], \"scatterternary\": [{\"marker\": {\"colorbar\": {\"outlinewidth\": 0, \"ticks\": \"\"}}, \"type\": \"scatterternary\"}], \"surface\": [{\"colorbar\": {\"outlinewidth\": 0, \"ticks\": \"\"}, \"colorscale\": [[0.0, \"#0d0887\"], [0.1111111111111111, \"#46039f\"], [0.2222222222222222, \"#7201a8\"], [0.3333333333333333, \"#9c179e\"], [0.4444444444444444, \"#bd3786\"], [0.5555555555555556, \"#d8576b\"], [0.6666666666666666, \"#ed7953\"], [0.7777777777777778, \"#fb9f3a\"], [0.8888888888888888, \"#fdca26\"], [1.0, \"#f0f921\"]], \"type\": \"surface\"}], \"table\": [{\"cells\": {\"fill\": {\"color\": \"#EBF0F8\"}, \"line\": {\"color\": \"white\"}}, \"header\": {\"fill\": {\"color\": \"#C8D4E3\"}, \"line\": {\"color\": \"white\"}}, \"type\": \"table\"}]}, \"layout\": {\"annotationdefaults\": {\"arrowcolor\": \"#2a3f5f\", \"arrowhead\": 0, \"arrowwidth\": 1}, \"coloraxis\": {\"colorbar\": {\"outlinewidth\": 0, \"ticks\": \"\"}}, \"colorscale\": {\"diverging\": [[0, \"#8e0152\"], [0.1, \"#c51b7d\"], [0.2, \"#de77ae\"], [0.3, \"#f1b6da\"], [0.4, \"#fde0ef\"], [0.5, \"#f7f7f7\"], [0.6, \"#e6f5d0\"], [0.7, \"#b8e186\"], [0.8, \"#7fbc41\"], [0.9, \"#4d9221\"], [1, \"#276419\"]], \"sequential\": [[0.0, \"#0d0887\"], [0.1111111111111111, \"#46039f\"], [0.2222222222222222, \"#7201a8\"], [0.3333333333333333, \"#9c179e\"], [0.4444444444444444, \"#bd3786\"], [0.5555555555555556, \"#d8576b\"], [0.6666666666666666, \"#ed7953\"], [0.7777777777777778, \"#fb9f3a\"], [0.8888888888888888, \"#fdca26\"], [1.0, \"#f0f921\"]], \"sequentialminus\": [[0.0, \"#0d0887\"], [0.1111111111111111, \"#46039f\"], [0.2222222222222222, \"#7201a8\"], [0.3333333333333333, \"#9c179e\"], [0.4444444444444444, \"#bd3786\"], [0.5555555555555556, \"#d8576b\"], [0.6666666666666666, \"#ed7953\"], [0.7777777777777778, \"#fb9f3a\"], [0.8888888888888888, \"#fdca26\"], [1.0, \"#f0f921\"]]}, \"colorway\": [\"#636efa\", \"#EF553B\", \"#00cc96\", \"#ab63fa\", \"#FFA15A\", \"#19d3f3\", \"#FF6692\", \"#B6E880\", \"#FF97FF\", \"#FECB52\"], \"font\": {\"color\": \"#2a3f5f\"}, \"geo\": {\"bgcolor\": \"white\", \"lakecolor\": \"white\", \"landcolor\": \"#E5ECF6\", \"showlakes\": true, \"showland\": true, \"subunitcolor\": \"white\"}, \"hoverlabel\": {\"align\": \"left\"}, \"hovermode\": \"closest\", \"mapbox\": {\"style\": \"light\"}, \"paper_bgcolor\": \"white\", \"plot_bgcolor\": \"#E5ECF6\", \"polar\": {\"angularaxis\": {\"gridcolor\": \"white\", \"linecolor\": \"white\", \"ticks\": \"\"}, \"bgcolor\": \"#E5ECF6\", \"radialaxis\": {\"gridcolor\": \"white\", \"linecolor\": \"white\", \"ticks\": \"\"}}, \"scene\": {\"xaxis\": {\"backgroundcolor\": \"#E5ECF6\", \"gridcolor\": \"white\", \"gridwidth\": 2, \"linecolor\": \"white\", \"showbackground\": true, \"ticks\": \"\", \"zerolinecolor\": \"white\"}, \"yaxis\": {\"backgroundcolor\": \"#E5ECF6\", \"gridcolor\": \"white\", \"gridwidth\": 2, \"linecolor\": \"white\", \"showbackground\": true, \"ticks\": \"\", \"zerolinecolor\": \"white\"}, \"zaxis\": {\"backgroundcolor\": \"#E5ECF6\", \"gridcolor\": \"white\", \"gridwidth\": 2, \"linecolor\": \"white\", \"showbackground\": true, \"ticks\": \"\", \"zerolinecolor\": \"white\"}}, \"shapedefaults\": {\"line\": {\"color\": \"#2a3f5f\"}}, \"ternary\": {\"aaxis\": {\"gridcolor\": \"white\", \"linecolor\": \"white\", \"ticks\": \"\"}, \"baxis\": {\"gridcolor\": \"white\", \"linecolor\": \"white\", \"ticks\": \"\"}, \"bgcolor\": \"#E5ECF6\", \"caxis\": {\"gridcolor\": \"white\", \"linecolor\": \"white\", \"ticks\": \"\"}}, \"title\": {\"x\": 0.05}, \"xaxis\": {\"automargin\": true, \"gridcolor\": \"white\", \"linecolor\": \"white\", \"ticks\": \"\", \"title\": {\"standoff\": 15}, \"zerolinecolor\": \"white\", \"zerolinewidth\": 2}, \"yaxis\": {\"automargin\": true, \"gridcolor\": \"white\", \"linecolor\": \"white\", \"ticks\": \"\", \"title\": {\"standoff\": 15}, \"zerolinecolor\": \"white\", \"zerolinewidth\": 2}}}, \"title\": {\"text\": \"Top 10 Stations: Morning Commute at ?AM\"}, \"width\": 600},\n",
       "                        {\"responsive\": true}\n",
       "                    ).then(function(){\n",
       "                            \n",
       "var gd = document.getElementById('9285d0eb-6fcb-4d3e-84d0-6bfcd58f762e');\n",
       "var x = new MutationObserver(function (mutations, observer) {{\n",
       "        var display = window.getComputedStyle(gd).display;\n",
       "        if (!display || display === 'none') {{\n",
       "            console.log([gd, 'removed!']);\n",
       "            Plotly.purge(gd);\n",
       "            observer.disconnect();\n",
       "        }}\n",
       "}});\n",
       "\n",
       "// Listen for the removal of the full notebook cells\n",
       "var notebookContainer = gd.closest('#notebook-container');\n",
       "if (notebookContainer) {{\n",
       "    x.observe(notebookContainer, {childList: true});\n",
       "}}\n",
       "\n",
       "// Listen for the clearing of the current output cell\n",
       "var outputEl = gd.closest('.output');\n",
       "if (outputEl) {{\n",
       "    x.observe(outputEl, {childList: true});\n",
       "}}\n",
       "\n",
       "                        })\n",
       "                };\n",
       "                });\n",
       "            </script>\n",
       "        </div>"
      ]
     },
     "metadata": {},
     "output_type": "display_data"
    },
    {
     "data": {
      "application/vnd.plotly.v1+json": {
       "config": {
        "plotlyServerURL": "https://plot.ly"
       },
       "data": [
        {
         "hovertemplate": "Station Name=Union Square<br>HOURLY_ENTRIES=%{marker.size}<br>Entrance Latitude=%{lat}<br>Entrance Longitude=%{lon}<extra></extra>",
         "lat": [
          40.735278
         ],
         "legendgroup": "Union Square",
         "lon": [
          -73.991058
         ],
         "marker": {
          "color": "#636efa",
          "opacity": 0.5,
          "size": [
           8015065
          ],
          "sizemode": "area",
          "sizeref": 35622.51111111111
         },
         "mode": "markers",
         "name": "Union Square",
         "showlegend": true,
         "subplot": "mapbox",
         "type": "scattermapbox"
        },
        {
         "hovertemplate": "Station Name=Canal St<br>HOURLY_ENTRIES=%{marker.size}<br>Entrance Latitude=%{lat}<br>Entrance Longitude=%{lon}<extra></extra>",
         "lat": [
          40.717822999999996
         ],
         "legendgroup": "Canal St",
         "lon": [
          -74.000326
         ],
         "marker": {
          "color": "#EF553B",
          "opacity": 0.5,
          "size": [
           4667053
          ],
          "sizemode": "area",
          "sizeref": 35622.51111111111
         },
         "mode": "markers",
         "name": "Canal St",
         "showlegend": true,
         "subplot": "mapbox",
         "type": "scattermapbox"
        },
        {
         "hovertemplate": "Station Name=96th St<br>HOURLY_ENTRIES=%{marker.size}<br>Entrance Latitude=%{lat}<br>Entrance Longitude=%{lon}<extra></extra>",
         "lat": [
          40.792590999999994
         ],
         "legendgroup": "96th St",
         "lon": [
          -73.964316
         ],
         "marker": {
          "color": "#00cc96",
          "opacity": 0.5,
          "size": [
           4315304
          ],
          "sizemode": "area",
          "sizeref": 35622.51111111111
         },
         "mode": "markers",
         "name": "96th St",
         "showlegend": true,
         "subplot": "mapbox",
         "type": "scattermapbox"
        },
        {
         "hovertemplate": "Station Name=Grand Central-42nd St<br>HOURLY_ENTRIES=%{marker.size}<br>Entrance Latitude=%{lat}<br>Entrance Longitude=%{lon}<extra></extra>",
         "lat": [
          40.750851000000004
         ],
         "legendgroup": "Grand Central-42nd St",
         "lon": [
          -73.975078
         ],
         "marker": {
          "color": "#ab63fa",
          "opacity": 0.5,
          "size": [
           3830738
          ],
          "sizemode": "area",
          "sizeref": 35622.51111111111
         },
         "mode": "markers",
         "name": "Grand Central-42nd St",
         "showlegend": true,
         "subplot": "mapbox",
         "type": "scattermapbox"
        },
        {
         "hovertemplate": "Station Name=Fulton St<br>HOURLY_ENTRIES=%{marker.size}<br>Entrance Latitude=%{lat}<br>Entrance Longitude=%{lon}<extra></extra>",
         "lat": [
          40.709507
         ],
         "legendgroup": "Fulton St",
         "lon": [
          -74.00829499999999
         ],
         "marker": {
          "color": "#FFA15A",
          "opacity": 0.5,
          "size": [
           4016165
          ],
          "sizemode": "area",
          "sizeref": 35622.51111111111
         },
         "mode": "markers",
         "name": "Fulton St",
         "showlegend": true,
         "subplot": "mapbox",
         "type": "scattermapbox"
        },
        {
         "hovertemplate": "Station Name=72nd St<br>HOURLY_ENTRIES=%{marker.size}<br>Entrance Latitude=%{lat}<br>Entrance Longitude=%{lon}<extra></extra>",
         "lat": [
          40.776216999999995
         ],
         "legendgroup": "72nd St",
         "lon": [
          -73.976247
         ],
         "marker": {
          "color": "#19d3f3",
          "opacity": 0.5,
          "size": [
           2961194
          ],
          "sizemode": "area",
          "sizeref": 35622.51111111111
         },
         "mode": "markers",
         "name": "72nd St",
         "showlegend": true,
         "subplot": "mapbox",
         "type": "scattermapbox"
        },
        {
         "hovertemplate": "Station Name=125th St<br>HOURLY_ENTRIES=%{marker.size}<br>Entrance Latitude=%{lat}<br>Entrance Longitude=%{lon}<extra></extra>",
         "lat": [
          40.811007000000004
         ],
         "legendgroup": "125th St",
         "lon": [
          -73.95261500000001
         ],
         "marker": {
          "color": "#FF6692",
          "opacity": 0.5,
          "size": [
           3418117
          ],
          "sizemode": "area",
          "sizeref": 35622.51111111111
         },
         "mode": "markers",
         "name": "125th St",
         "showlegend": true,
         "subplot": "mapbox",
         "type": "scattermapbox"
        },
        {
         "hovertemplate": "Station Name=West 4th St<br>HOURLY_ENTRIES=%{marker.size}<br>Entrance Latitude=%{lat}<br>Entrance Longitude=%{lon}<extra></extra>",
         "lat": [
          40.731133
         ],
         "legendgroup": "West 4th St",
         "lon": [
          -74.00153399999999
         ],
         "marker": {
          "color": "#B6E880",
          "opacity": 0.5,
          "size": [
           2805174
          ],
          "sizemode": "area",
          "sizeref": 35622.51111111111
         },
         "mode": "markers",
         "name": "West 4th St",
         "showlegend": true,
         "subplot": "mapbox",
         "type": "scattermapbox"
        },
        {
         "hovertemplate": "Station Name=23rd St<br>HOURLY_ENTRIES=%{marker.size}<br>Entrance Latitude=%{lat}<br>Entrance Longitude=%{lon}<extra></extra>",
         "lat": [
          40.74108
         ],
         "legendgroup": "23rd St",
         "lon": [
          -73.989083
         ],
         "marker": {
          "color": "#FF97FF",
          "opacity": 0.5,
          "size": [
           3142320
          ],
          "sizemode": "area",
          "sizeref": 35622.51111111111
         },
         "mode": "markers",
         "name": "23rd St",
         "showlegend": true,
         "subplot": "mapbox",
         "type": "scattermapbox"
        },
        {
         "hovertemplate": "Station Name=28th St<br>HOURLY_ENTRIES=%{marker.size}<br>Entrance Latitude=%{lat}<br>Entrance Longitude=%{lon}<extra></extra>",
         "lat": [
          40.745089
         ],
         "legendgroup": "28th St",
         "lon": [
          -73.988472
         ],
         "marker": {
          "color": "#FECB52",
          "opacity": 0.5,
          "size": [
           2621974
          ],
          "sizemode": "area",
          "sizeref": 35622.51111111111
         },
         "mode": "markers",
         "name": "28th St",
         "showlegend": true,
         "subplot": "mapbox",
         "type": "scattermapbox"
        }
       ],
       "layout": {
        "height": 800,
        "legend": {
         "itemsizing": "constant",
         "title": {
          "text": "Station Name"
         },
         "tracegroupgap": 0
        },
        "mapbox": {
         "accesstoken": "pk.eyJ1Ijoic3RldmVqa2FwbGFuIiwiYSI6ImNrYzU5cmU4MTAzZnMydGpoYW9samtjemsifQ.4vpWJGjiGUC-K389B4JdbA",
         "center": {
          "lat": 40.7510576,
          "lon": -73.98470239999999
         },
         "domain": {
          "x": [
           0,
           1
          ],
          "y": [
           0,
           1
          ]
         },
         "style": "dark",
         "zoom": 11
        },
        "template": {
         "data": {
          "bar": [
           {
            "error_x": {
             "color": "#2a3f5f"
            },
            "error_y": {
             "color": "#2a3f5f"
            },
            "marker": {
             "line": {
              "color": "#E5ECF6",
              "width": 0.5
             }
            },
            "type": "bar"
           }
          ],
          "barpolar": [
           {
            "marker": {
             "line": {
              "color": "#E5ECF6",
              "width": 0.5
             }
            },
            "type": "barpolar"
           }
          ],
          "carpet": [
           {
            "aaxis": {
             "endlinecolor": "#2a3f5f",
             "gridcolor": "white",
             "linecolor": "white",
             "minorgridcolor": "white",
             "startlinecolor": "#2a3f5f"
            },
            "baxis": {
             "endlinecolor": "#2a3f5f",
             "gridcolor": "white",
             "linecolor": "white",
             "minorgridcolor": "white",
             "startlinecolor": "#2a3f5f"
            },
            "type": "carpet"
           }
          ],
          "choropleth": [
           {
            "colorbar": {
             "outlinewidth": 0,
             "ticks": ""
            },
            "type": "choropleth"
           }
          ],
          "contour": [
           {
            "colorbar": {
             "outlinewidth": 0,
             "ticks": ""
            },
            "colorscale": [
             [
              0,
              "#0d0887"
             ],
             [
              0.1111111111111111,
              "#46039f"
             ],
             [
              0.2222222222222222,
              "#7201a8"
             ],
             [
              0.3333333333333333,
              "#9c179e"
             ],
             [
              0.4444444444444444,
              "#bd3786"
             ],
             [
              0.5555555555555556,
              "#d8576b"
             ],
             [
              0.6666666666666666,
              "#ed7953"
             ],
             [
              0.7777777777777778,
              "#fb9f3a"
             ],
             [
              0.8888888888888888,
              "#fdca26"
             ],
             [
              1,
              "#f0f921"
             ]
            ],
            "type": "contour"
           }
          ],
          "contourcarpet": [
           {
            "colorbar": {
             "outlinewidth": 0,
             "ticks": ""
            },
            "type": "contourcarpet"
           }
          ],
          "heatmap": [
           {
            "colorbar": {
             "outlinewidth": 0,
             "ticks": ""
            },
            "colorscale": [
             [
              0,
              "#0d0887"
             ],
             [
              0.1111111111111111,
              "#46039f"
             ],
             [
              0.2222222222222222,
              "#7201a8"
             ],
             [
              0.3333333333333333,
              "#9c179e"
             ],
             [
              0.4444444444444444,
              "#bd3786"
             ],
             [
              0.5555555555555556,
              "#d8576b"
             ],
             [
              0.6666666666666666,
              "#ed7953"
             ],
             [
              0.7777777777777778,
              "#fb9f3a"
             ],
             [
              0.8888888888888888,
              "#fdca26"
             ],
             [
              1,
              "#f0f921"
             ]
            ],
            "type": "heatmap"
           }
          ],
          "heatmapgl": [
           {
            "colorbar": {
             "outlinewidth": 0,
             "ticks": ""
            },
            "colorscale": [
             [
              0,
              "#0d0887"
             ],
             [
              0.1111111111111111,
              "#46039f"
             ],
             [
              0.2222222222222222,
              "#7201a8"
             ],
             [
              0.3333333333333333,
              "#9c179e"
             ],
             [
              0.4444444444444444,
              "#bd3786"
             ],
             [
              0.5555555555555556,
              "#d8576b"
             ],
             [
              0.6666666666666666,
              "#ed7953"
             ],
             [
              0.7777777777777778,
              "#fb9f3a"
             ],
             [
              0.8888888888888888,
              "#fdca26"
             ],
             [
              1,
              "#f0f921"
             ]
            ],
            "type": "heatmapgl"
           }
          ],
          "histogram": [
           {
            "marker": {
             "colorbar": {
              "outlinewidth": 0,
              "ticks": ""
             }
            },
            "type": "histogram"
           }
          ],
          "histogram2d": [
           {
            "colorbar": {
             "outlinewidth": 0,
             "ticks": ""
            },
            "colorscale": [
             [
              0,
              "#0d0887"
             ],
             [
              0.1111111111111111,
              "#46039f"
             ],
             [
              0.2222222222222222,
              "#7201a8"
             ],
             [
              0.3333333333333333,
              "#9c179e"
             ],
             [
              0.4444444444444444,
              "#bd3786"
             ],
             [
              0.5555555555555556,
              "#d8576b"
             ],
             [
              0.6666666666666666,
              "#ed7953"
             ],
             [
              0.7777777777777778,
              "#fb9f3a"
             ],
             [
              0.8888888888888888,
              "#fdca26"
             ],
             [
              1,
              "#f0f921"
             ]
            ],
            "type": "histogram2d"
           }
          ],
          "histogram2dcontour": [
           {
            "colorbar": {
             "outlinewidth": 0,
             "ticks": ""
            },
            "colorscale": [
             [
              0,
              "#0d0887"
             ],
             [
              0.1111111111111111,
              "#46039f"
             ],
             [
              0.2222222222222222,
              "#7201a8"
             ],
             [
              0.3333333333333333,
              "#9c179e"
             ],
             [
              0.4444444444444444,
              "#bd3786"
             ],
             [
              0.5555555555555556,
              "#d8576b"
             ],
             [
              0.6666666666666666,
              "#ed7953"
             ],
             [
              0.7777777777777778,
              "#fb9f3a"
             ],
             [
              0.8888888888888888,
              "#fdca26"
             ],
             [
              1,
              "#f0f921"
             ]
            ],
            "type": "histogram2dcontour"
           }
          ],
          "mesh3d": [
           {
            "colorbar": {
             "outlinewidth": 0,
             "ticks": ""
            },
            "type": "mesh3d"
           }
          ],
          "parcoords": [
           {
            "line": {
             "colorbar": {
              "outlinewidth": 0,
              "ticks": ""
             }
            },
            "type": "parcoords"
           }
          ],
          "pie": [
           {
            "automargin": true,
            "type": "pie"
           }
          ],
          "scatter": [
           {
            "marker": {
             "colorbar": {
              "outlinewidth": 0,
              "ticks": ""
             }
            },
            "type": "scatter"
           }
          ],
          "scatter3d": [
           {
            "line": {
             "colorbar": {
              "outlinewidth": 0,
              "ticks": ""
             }
            },
            "marker": {
             "colorbar": {
              "outlinewidth": 0,
              "ticks": ""
             }
            },
            "type": "scatter3d"
           }
          ],
          "scattercarpet": [
           {
            "marker": {
             "colorbar": {
              "outlinewidth": 0,
              "ticks": ""
             }
            },
            "type": "scattercarpet"
           }
          ],
          "scattergeo": [
           {
            "marker": {
             "colorbar": {
              "outlinewidth": 0,
              "ticks": ""
             }
            },
            "type": "scattergeo"
           }
          ],
          "scattergl": [
           {
            "marker": {
             "colorbar": {
              "outlinewidth": 0,
              "ticks": ""
             }
            },
            "type": "scattergl"
           }
          ],
          "scattermapbox": [
           {
            "marker": {
             "colorbar": {
              "outlinewidth": 0,
              "ticks": ""
             }
            },
            "type": "scattermapbox"
           }
          ],
          "scatterpolar": [
           {
            "marker": {
             "colorbar": {
              "outlinewidth": 0,
              "ticks": ""
             }
            },
            "type": "scatterpolar"
           }
          ],
          "scatterpolargl": [
           {
            "marker": {
             "colorbar": {
              "outlinewidth": 0,
              "ticks": ""
             }
            },
            "type": "scatterpolargl"
           }
          ],
          "scatterternary": [
           {
            "marker": {
             "colorbar": {
              "outlinewidth": 0,
              "ticks": ""
             }
            },
            "type": "scatterternary"
           }
          ],
          "surface": [
           {
            "colorbar": {
             "outlinewidth": 0,
             "ticks": ""
            },
            "colorscale": [
             [
              0,
              "#0d0887"
             ],
             [
              0.1111111111111111,
              "#46039f"
             ],
             [
              0.2222222222222222,
              "#7201a8"
             ],
             [
              0.3333333333333333,
              "#9c179e"
             ],
             [
              0.4444444444444444,
              "#bd3786"
             ],
             [
              0.5555555555555556,
              "#d8576b"
             ],
             [
              0.6666666666666666,
              "#ed7953"
             ],
             [
              0.7777777777777778,
              "#fb9f3a"
             ],
             [
              0.8888888888888888,
              "#fdca26"
             ],
             [
              1,
              "#f0f921"
             ]
            ],
            "type": "surface"
           }
          ],
          "table": [
           {
            "cells": {
             "fill": {
              "color": "#EBF0F8"
             },
             "line": {
              "color": "white"
             }
            },
            "header": {
             "fill": {
              "color": "#C8D4E3"
             },
             "line": {
              "color": "white"
             }
            },
            "type": "table"
           }
          ]
         },
         "layout": {
          "annotationdefaults": {
           "arrowcolor": "#2a3f5f",
           "arrowhead": 0,
           "arrowwidth": 1
          },
          "coloraxis": {
           "colorbar": {
            "outlinewidth": 0,
            "ticks": ""
           }
          },
          "colorscale": {
           "diverging": [
            [
             0,
             "#8e0152"
            ],
            [
             0.1,
             "#c51b7d"
            ],
            [
             0.2,
             "#de77ae"
            ],
            [
             0.3,
             "#f1b6da"
            ],
            [
             0.4,
             "#fde0ef"
            ],
            [
             0.5,
             "#f7f7f7"
            ],
            [
             0.6,
             "#e6f5d0"
            ],
            [
             0.7,
             "#b8e186"
            ],
            [
             0.8,
             "#7fbc41"
            ],
            [
             0.9,
             "#4d9221"
            ],
            [
             1,
             "#276419"
            ]
           ],
           "sequential": [
            [
             0,
             "#0d0887"
            ],
            [
             0.1111111111111111,
             "#46039f"
            ],
            [
             0.2222222222222222,
             "#7201a8"
            ],
            [
             0.3333333333333333,
             "#9c179e"
            ],
            [
             0.4444444444444444,
             "#bd3786"
            ],
            [
             0.5555555555555556,
             "#d8576b"
            ],
            [
             0.6666666666666666,
             "#ed7953"
            ],
            [
             0.7777777777777778,
             "#fb9f3a"
            ],
            [
             0.8888888888888888,
             "#fdca26"
            ],
            [
             1,
             "#f0f921"
            ]
           ],
           "sequentialminus": [
            [
             0,
             "#0d0887"
            ],
            [
             0.1111111111111111,
             "#46039f"
            ],
            [
             0.2222222222222222,
             "#7201a8"
            ],
            [
             0.3333333333333333,
             "#9c179e"
            ],
            [
             0.4444444444444444,
             "#bd3786"
            ],
            [
             0.5555555555555556,
             "#d8576b"
            ],
            [
             0.6666666666666666,
             "#ed7953"
            ],
            [
             0.7777777777777778,
             "#fb9f3a"
            ],
            [
             0.8888888888888888,
             "#fdca26"
            ],
            [
             1,
             "#f0f921"
            ]
           ]
          },
          "colorway": [
           "#636efa",
           "#EF553B",
           "#00cc96",
           "#ab63fa",
           "#FFA15A",
           "#19d3f3",
           "#FF6692",
           "#B6E880",
           "#FF97FF",
           "#FECB52"
          ],
          "font": {
           "color": "#2a3f5f"
          },
          "geo": {
           "bgcolor": "white",
           "lakecolor": "white",
           "landcolor": "#E5ECF6",
           "showlakes": true,
           "showland": true,
           "subunitcolor": "white"
          },
          "hoverlabel": {
           "align": "left"
          },
          "hovermode": "closest",
          "mapbox": {
           "style": "light"
          },
          "paper_bgcolor": "white",
          "plot_bgcolor": "#E5ECF6",
          "polar": {
           "angularaxis": {
            "gridcolor": "white",
            "linecolor": "white",
            "ticks": ""
           },
           "bgcolor": "#E5ECF6",
           "radialaxis": {
            "gridcolor": "white",
            "linecolor": "white",
            "ticks": ""
           }
          },
          "scene": {
           "xaxis": {
            "backgroundcolor": "#E5ECF6",
            "gridcolor": "white",
            "gridwidth": 2,
            "linecolor": "white",
            "showbackground": true,
            "ticks": "",
            "zerolinecolor": "white"
           },
           "yaxis": {
            "backgroundcolor": "#E5ECF6",
            "gridcolor": "white",
            "gridwidth": 2,
            "linecolor": "white",
            "showbackground": true,
            "ticks": "",
            "zerolinecolor": "white"
           },
           "zaxis": {
            "backgroundcolor": "#E5ECF6",
            "gridcolor": "white",
            "gridwidth": 2,
            "linecolor": "white",
            "showbackground": true,
            "ticks": "",
            "zerolinecolor": "white"
           }
          },
          "shapedefaults": {
           "line": {
            "color": "#2a3f5f"
           }
          },
          "ternary": {
           "aaxis": {
            "gridcolor": "white",
            "linecolor": "white",
            "ticks": ""
           },
           "baxis": {
            "gridcolor": "white",
            "linecolor": "white",
            "ticks": ""
           },
           "bgcolor": "#E5ECF6",
           "caxis": {
            "gridcolor": "white",
            "linecolor": "white",
            "ticks": ""
           }
          },
          "title": {
           "x": 0.05
          },
          "xaxis": {
           "automargin": true,
           "gridcolor": "white",
           "linecolor": "white",
           "ticks": "",
           "title": {
            "standoff": 15
           },
           "zerolinecolor": "white",
           "zerolinewidth": 2
          },
          "yaxis": {
           "automargin": true,
           "gridcolor": "white",
           "linecolor": "white",
           "ticks": "",
           "title": {
            "standoff": 15
           },
           "zerolinecolor": "white",
           "zerolinewidth": 2
          }
         }
        },
        "title": {
         "text": "Top 10 Stations: Evening Commute at ?PM"
        },
        "width": 600
       }
      },
      "text/html": [
       "<div>\n",
       "        \n",
       "        \n",
       "            <div id=\"230be048-e958-43f3-b36c-b7038ac174e7\" class=\"plotly-graph-div\" style=\"height:800px; width:600px;\"></div>\n",
       "            <script type=\"text/javascript\">\n",
       "                require([\"plotly\"], function(Plotly) {\n",
       "                    window.PLOTLYENV=window.PLOTLYENV || {};\n",
       "                    \n",
       "                if (document.getElementById(\"230be048-e958-43f3-b36c-b7038ac174e7\")) {\n",
       "                    Plotly.newPlot(\n",
       "                        '230be048-e958-43f3-b36c-b7038ac174e7',\n",
       "                        [{\"hovertemplate\": \"Station Name=Union Square<br>HOURLY_ENTRIES=%{marker.size}<br>Entrance Latitude=%{lat}<br>Entrance Longitude=%{lon}<extra></extra>\", \"lat\": [40.735278], \"legendgroup\": \"Union Square\", \"lon\": [-73.991058], \"marker\": {\"color\": \"#636efa\", \"opacity\": 0.5, \"size\": [8015065.0], \"sizemode\": \"area\", \"sizeref\": 35622.51111111111}, \"mode\": \"markers\", \"name\": \"Union Square\", \"showlegend\": true, \"subplot\": \"mapbox\", \"type\": \"scattermapbox\"}, {\"hovertemplate\": \"Station Name=Canal St<br>HOURLY_ENTRIES=%{marker.size}<br>Entrance Latitude=%{lat}<br>Entrance Longitude=%{lon}<extra></extra>\", \"lat\": [40.717822999999996], \"legendgroup\": \"Canal St\", \"lon\": [-74.000326], \"marker\": {\"color\": \"#EF553B\", \"opacity\": 0.5, \"size\": [4667053.0], \"sizemode\": \"area\", \"sizeref\": 35622.51111111111}, \"mode\": \"markers\", \"name\": \"Canal St\", \"showlegend\": true, \"subplot\": \"mapbox\", \"type\": \"scattermapbox\"}, {\"hovertemplate\": \"Station Name=96th St<br>HOURLY_ENTRIES=%{marker.size}<br>Entrance Latitude=%{lat}<br>Entrance Longitude=%{lon}<extra></extra>\", \"lat\": [40.792590999999994], \"legendgroup\": \"96th St\", \"lon\": [-73.964316], \"marker\": {\"color\": \"#00cc96\", \"opacity\": 0.5, \"size\": [4315304.0], \"sizemode\": \"area\", \"sizeref\": 35622.51111111111}, \"mode\": \"markers\", \"name\": \"96th St\", \"showlegend\": true, \"subplot\": \"mapbox\", \"type\": \"scattermapbox\"}, {\"hovertemplate\": \"Station Name=Grand Central-42nd St<br>HOURLY_ENTRIES=%{marker.size}<br>Entrance Latitude=%{lat}<br>Entrance Longitude=%{lon}<extra></extra>\", \"lat\": [40.750851000000004], \"legendgroup\": \"Grand Central-42nd St\", \"lon\": [-73.975078], \"marker\": {\"color\": \"#ab63fa\", \"opacity\": 0.5, \"size\": [3830738.0], \"sizemode\": \"area\", \"sizeref\": 35622.51111111111}, \"mode\": \"markers\", \"name\": \"Grand Central-42nd St\", \"showlegend\": true, \"subplot\": \"mapbox\", \"type\": \"scattermapbox\"}, {\"hovertemplate\": \"Station Name=Fulton St<br>HOURLY_ENTRIES=%{marker.size}<br>Entrance Latitude=%{lat}<br>Entrance Longitude=%{lon}<extra></extra>\", \"lat\": [40.709507], \"legendgroup\": \"Fulton St\", \"lon\": [-74.00829499999999], \"marker\": {\"color\": \"#FFA15A\", \"opacity\": 0.5, \"size\": [4016165.0], \"sizemode\": \"area\", \"sizeref\": 35622.51111111111}, \"mode\": \"markers\", \"name\": \"Fulton St\", \"showlegend\": true, \"subplot\": \"mapbox\", \"type\": \"scattermapbox\"}, {\"hovertemplate\": \"Station Name=72nd St<br>HOURLY_ENTRIES=%{marker.size}<br>Entrance Latitude=%{lat}<br>Entrance Longitude=%{lon}<extra></extra>\", \"lat\": [40.776216999999995], \"legendgroup\": \"72nd St\", \"lon\": [-73.976247], \"marker\": {\"color\": \"#19d3f3\", \"opacity\": 0.5, \"size\": [2961194.0], \"sizemode\": \"area\", \"sizeref\": 35622.51111111111}, \"mode\": \"markers\", \"name\": \"72nd St\", \"showlegend\": true, \"subplot\": \"mapbox\", \"type\": \"scattermapbox\"}, {\"hovertemplate\": \"Station Name=125th St<br>HOURLY_ENTRIES=%{marker.size}<br>Entrance Latitude=%{lat}<br>Entrance Longitude=%{lon}<extra></extra>\", \"lat\": [40.811007000000004], \"legendgroup\": \"125th St\", \"lon\": [-73.95261500000001], \"marker\": {\"color\": \"#FF6692\", \"opacity\": 0.5, \"size\": [3418117.0], \"sizemode\": \"area\", \"sizeref\": 35622.51111111111}, \"mode\": \"markers\", \"name\": \"125th St\", \"showlegend\": true, \"subplot\": \"mapbox\", \"type\": \"scattermapbox\"}, {\"hovertemplate\": \"Station Name=West 4th St<br>HOURLY_ENTRIES=%{marker.size}<br>Entrance Latitude=%{lat}<br>Entrance Longitude=%{lon}<extra></extra>\", \"lat\": [40.731133], \"legendgroup\": \"West 4th St\", \"lon\": [-74.00153399999999], \"marker\": {\"color\": \"#B6E880\", \"opacity\": 0.5, \"size\": [2805174.0], \"sizemode\": \"area\", \"sizeref\": 35622.51111111111}, \"mode\": \"markers\", \"name\": \"West 4th St\", \"showlegend\": true, \"subplot\": \"mapbox\", \"type\": \"scattermapbox\"}, {\"hovertemplate\": \"Station Name=23rd St<br>HOURLY_ENTRIES=%{marker.size}<br>Entrance Latitude=%{lat}<br>Entrance Longitude=%{lon}<extra></extra>\", \"lat\": [40.74108], \"legendgroup\": \"23rd St\", \"lon\": [-73.989083], \"marker\": {\"color\": \"#FF97FF\", \"opacity\": 0.5, \"size\": [3142320.0], \"sizemode\": \"area\", \"sizeref\": 35622.51111111111}, \"mode\": \"markers\", \"name\": \"23rd St\", \"showlegend\": true, \"subplot\": \"mapbox\", \"type\": \"scattermapbox\"}, {\"hovertemplate\": \"Station Name=28th St<br>HOURLY_ENTRIES=%{marker.size}<br>Entrance Latitude=%{lat}<br>Entrance Longitude=%{lon}<extra></extra>\", \"lat\": [40.745089], \"legendgroup\": \"28th St\", \"lon\": [-73.988472], \"marker\": {\"color\": \"#FECB52\", \"opacity\": 0.5, \"size\": [2621974.0], \"sizemode\": \"area\", \"sizeref\": 35622.51111111111}, \"mode\": \"markers\", \"name\": \"28th St\", \"showlegend\": true, \"subplot\": \"mapbox\", \"type\": \"scattermapbox\"}],\n",
       "                        {\"height\": 800, \"legend\": {\"itemsizing\": \"constant\", \"title\": {\"text\": \"Station Name\"}, \"tracegroupgap\": 0}, \"mapbox\": {\"accesstoken\": \"pk.eyJ1Ijoic3RldmVqa2FwbGFuIiwiYSI6ImNrYzU5cmU4MTAzZnMydGpoYW9samtjemsifQ.4vpWJGjiGUC-K389B4JdbA\", \"center\": {\"lat\": 40.7510576, \"lon\": -73.98470239999999}, \"domain\": {\"x\": [0.0, 1.0], \"y\": [0.0, 1.0]}, \"style\": \"dark\", \"zoom\": 11}, \"template\": {\"data\": {\"bar\": [{\"error_x\": {\"color\": \"#2a3f5f\"}, \"error_y\": {\"color\": \"#2a3f5f\"}, \"marker\": {\"line\": {\"color\": \"#E5ECF6\", \"width\": 0.5}}, \"type\": \"bar\"}], \"barpolar\": [{\"marker\": {\"line\": {\"color\": \"#E5ECF6\", \"width\": 0.5}}, \"type\": \"barpolar\"}], \"carpet\": [{\"aaxis\": {\"endlinecolor\": \"#2a3f5f\", \"gridcolor\": \"white\", \"linecolor\": \"white\", \"minorgridcolor\": \"white\", \"startlinecolor\": \"#2a3f5f\"}, \"baxis\": {\"endlinecolor\": \"#2a3f5f\", \"gridcolor\": \"white\", \"linecolor\": \"white\", \"minorgridcolor\": \"white\", \"startlinecolor\": \"#2a3f5f\"}, \"type\": \"carpet\"}], \"choropleth\": [{\"colorbar\": {\"outlinewidth\": 0, \"ticks\": \"\"}, \"type\": \"choropleth\"}], \"contour\": [{\"colorbar\": {\"outlinewidth\": 0, \"ticks\": \"\"}, \"colorscale\": [[0.0, \"#0d0887\"], [0.1111111111111111, \"#46039f\"], [0.2222222222222222, \"#7201a8\"], [0.3333333333333333, \"#9c179e\"], [0.4444444444444444, \"#bd3786\"], [0.5555555555555556, \"#d8576b\"], [0.6666666666666666, \"#ed7953\"], [0.7777777777777778, \"#fb9f3a\"], [0.8888888888888888, \"#fdca26\"], [1.0, \"#f0f921\"]], \"type\": \"contour\"}], \"contourcarpet\": [{\"colorbar\": {\"outlinewidth\": 0, \"ticks\": \"\"}, \"type\": \"contourcarpet\"}], \"heatmap\": [{\"colorbar\": {\"outlinewidth\": 0, \"ticks\": \"\"}, \"colorscale\": [[0.0, \"#0d0887\"], [0.1111111111111111, \"#46039f\"], [0.2222222222222222, \"#7201a8\"], [0.3333333333333333, \"#9c179e\"], [0.4444444444444444, \"#bd3786\"], [0.5555555555555556, \"#d8576b\"], [0.6666666666666666, \"#ed7953\"], [0.7777777777777778, \"#fb9f3a\"], [0.8888888888888888, \"#fdca26\"], [1.0, \"#f0f921\"]], \"type\": \"heatmap\"}], \"heatmapgl\": [{\"colorbar\": {\"outlinewidth\": 0, \"ticks\": \"\"}, \"colorscale\": [[0.0, \"#0d0887\"], [0.1111111111111111, \"#46039f\"], [0.2222222222222222, \"#7201a8\"], [0.3333333333333333, \"#9c179e\"], [0.4444444444444444, \"#bd3786\"], [0.5555555555555556, \"#d8576b\"], [0.6666666666666666, \"#ed7953\"], [0.7777777777777778, \"#fb9f3a\"], [0.8888888888888888, \"#fdca26\"], [1.0, \"#f0f921\"]], \"type\": \"heatmapgl\"}], \"histogram\": [{\"marker\": {\"colorbar\": {\"outlinewidth\": 0, \"ticks\": \"\"}}, \"type\": \"histogram\"}], \"histogram2d\": [{\"colorbar\": {\"outlinewidth\": 0, \"ticks\": \"\"}, \"colorscale\": [[0.0, \"#0d0887\"], [0.1111111111111111, \"#46039f\"], [0.2222222222222222, \"#7201a8\"], [0.3333333333333333, \"#9c179e\"], [0.4444444444444444, \"#bd3786\"], [0.5555555555555556, \"#d8576b\"], [0.6666666666666666, \"#ed7953\"], [0.7777777777777778, \"#fb9f3a\"], [0.8888888888888888, \"#fdca26\"], [1.0, \"#f0f921\"]], \"type\": \"histogram2d\"}], \"histogram2dcontour\": [{\"colorbar\": {\"outlinewidth\": 0, \"ticks\": \"\"}, \"colorscale\": [[0.0, \"#0d0887\"], [0.1111111111111111, \"#46039f\"], [0.2222222222222222, \"#7201a8\"], [0.3333333333333333, \"#9c179e\"], [0.4444444444444444, \"#bd3786\"], [0.5555555555555556, \"#d8576b\"], [0.6666666666666666, \"#ed7953\"], [0.7777777777777778, \"#fb9f3a\"], [0.8888888888888888, \"#fdca26\"], [1.0, \"#f0f921\"]], \"type\": \"histogram2dcontour\"}], \"mesh3d\": [{\"colorbar\": {\"outlinewidth\": 0, \"ticks\": \"\"}, \"type\": \"mesh3d\"}], \"parcoords\": [{\"line\": {\"colorbar\": {\"outlinewidth\": 0, \"ticks\": \"\"}}, \"type\": \"parcoords\"}], \"pie\": [{\"automargin\": true, \"type\": \"pie\"}], \"scatter\": [{\"marker\": {\"colorbar\": {\"outlinewidth\": 0, \"ticks\": \"\"}}, \"type\": \"scatter\"}], \"scatter3d\": [{\"line\": {\"colorbar\": {\"outlinewidth\": 0, \"ticks\": \"\"}}, \"marker\": {\"colorbar\": {\"outlinewidth\": 0, \"ticks\": \"\"}}, \"type\": \"scatter3d\"}], \"scattercarpet\": [{\"marker\": {\"colorbar\": {\"outlinewidth\": 0, \"ticks\": \"\"}}, \"type\": \"scattercarpet\"}], \"scattergeo\": [{\"marker\": {\"colorbar\": {\"outlinewidth\": 0, \"ticks\": \"\"}}, \"type\": \"scattergeo\"}], \"scattergl\": [{\"marker\": {\"colorbar\": {\"outlinewidth\": 0, \"ticks\": \"\"}}, \"type\": \"scattergl\"}], \"scattermapbox\": [{\"marker\": {\"colorbar\": {\"outlinewidth\": 0, \"ticks\": \"\"}}, \"type\": \"scattermapbox\"}], \"scatterpolar\": [{\"marker\": {\"colorbar\": {\"outlinewidth\": 0, \"ticks\": \"\"}}, \"type\": \"scatterpolar\"}], \"scatterpolargl\": [{\"marker\": {\"colorbar\": {\"outlinewidth\": 0, \"ticks\": \"\"}}, \"type\": \"scatterpolargl\"}], \"scatterternary\": [{\"marker\": {\"colorbar\": {\"outlinewidth\": 0, \"ticks\": \"\"}}, \"type\": \"scatterternary\"}], \"surface\": [{\"colorbar\": {\"outlinewidth\": 0, \"ticks\": \"\"}, \"colorscale\": [[0.0, \"#0d0887\"], [0.1111111111111111, \"#46039f\"], [0.2222222222222222, \"#7201a8\"], [0.3333333333333333, \"#9c179e\"], [0.4444444444444444, \"#bd3786\"], [0.5555555555555556, \"#d8576b\"], [0.6666666666666666, \"#ed7953\"], [0.7777777777777778, \"#fb9f3a\"], [0.8888888888888888, \"#fdca26\"], [1.0, \"#f0f921\"]], \"type\": \"surface\"}], \"table\": [{\"cells\": {\"fill\": {\"color\": \"#EBF0F8\"}, \"line\": {\"color\": \"white\"}}, \"header\": {\"fill\": {\"color\": \"#C8D4E3\"}, \"line\": {\"color\": \"white\"}}, \"type\": \"table\"}]}, \"layout\": {\"annotationdefaults\": {\"arrowcolor\": \"#2a3f5f\", \"arrowhead\": 0, \"arrowwidth\": 1}, \"coloraxis\": {\"colorbar\": {\"outlinewidth\": 0, \"ticks\": \"\"}}, \"colorscale\": {\"diverging\": [[0, \"#8e0152\"], [0.1, \"#c51b7d\"], [0.2, \"#de77ae\"], [0.3, \"#f1b6da\"], [0.4, \"#fde0ef\"], [0.5, \"#f7f7f7\"], [0.6, \"#e6f5d0\"], [0.7, \"#b8e186\"], [0.8, \"#7fbc41\"], [0.9, \"#4d9221\"], [1, \"#276419\"]], \"sequential\": [[0.0, \"#0d0887\"], [0.1111111111111111, \"#46039f\"], [0.2222222222222222, \"#7201a8\"], [0.3333333333333333, \"#9c179e\"], [0.4444444444444444, \"#bd3786\"], [0.5555555555555556, \"#d8576b\"], [0.6666666666666666, \"#ed7953\"], [0.7777777777777778, \"#fb9f3a\"], [0.8888888888888888, \"#fdca26\"], [1.0, \"#f0f921\"]], \"sequentialminus\": [[0.0, \"#0d0887\"], [0.1111111111111111, \"#46039f\"], [0.2222222222222222, \"#7201a8\"], [0.3333333333333333, \"#9c179e\"], [0.4444444444444444, \"#bd3786\"], [0.5555555555555556, \"#d8576b\"], [0.6666666666666666, \"#ed7953\"], [0.7777777777777778, \"#fb9f3a\"], [0.8888888888888888, \"#fdca26\"], [1.0, \"#f0f921\"]]}, \"colorway\": [\"#636efa\", \"#EF553B\", \"#00cc96\", \"#ab63fa\", \"#FFA15A\", \"#19d3f3\", \"#FF6692\", \"#B6E880\", \"#FF97FF\", \"#FECB52\"], \"font\": {\"color\": \"#2a3f5f\"}, \"geo\": {\"bgcolor\": \"white\", \"lakecolor\": \"white\", \"landcolor\": \"#E5ECF6\", \"showlakes\": true, \"showland\": true, \"subunitcolor\": \"white\"}, \"hoverlabel\": {\"align\": \"left\"}, \"hovermode\": \"closest\", \"mapbox\": {\"style\": \"light\"}, \"paper_bgcolor\": \"white\", \"plot_bgcolor\": \"#E5ECF6\", \"polar\": {\"angularaxis\": {\"gridcolor\": \"white\", \"linecolor\": \"white\", \"ticks\": \"\"}, \"bgcolor\": \"#E5ECF6\", \"radialaxis\": {\"gridcolor\": \"white\", \"linecolor\": \"white\", \"ticks\": \"\"}}, \"scene\": {\"xaxis\": {\"backgroundcolor\": \"#E5ECF6\", \"gridcolor\": \"white\", \"gridwidth\": 2, \"linecolor\": \"white\", \"showbackground\": true, \"ticks\": \"\", \"zerolinecolor\": \"white\"}, \"yaxis\": {\"backgroundcolor\": \"#E5ECF6\", \"gridcolor\": \"white\", \"gridwidth\": 2, \"linecolor\": \"white\", \"showbackground\": true, \"ticks\": \"\", \"zerolinecolor\": \"white\"}, \"zaxis\": {\"backgroundcolor\": \"#E5ECF6\", \"gridcolor\": \"white\", \"gridwidth\": 2, \"linecolor\": \"white\", \"showbackground\": true, \"ticks\": \"\", \"zerolinecolor\": \"white\"}}, \"shapedefaults\": {\"line\": {\"color\": \"#2a3f5f\"}}, \"ternary\": {\"aaxis\": {\"gridcolor\": \"white\", \"linecolor\": \"white\", \"ticks\": \"\"}, \"baxis\": {\"gridcolor\": \"white\", \"linecolor\": \"white\", \"ticks\": \"\"}, \"bgcolor\": \"#E5ECF6\", \"caxis\": {\"gridcolor\": \"white\", \"linecolor\": \"white\", \"ticks\": \"\"}}, \"title\": {\"x\": 0.05}, \"xaxis\": {\"automargin\": true, \"gridcolor\": \"white\", \"linecolor\": \"white\", \"ticks\": \"\", \"title\": {\"standoff\": 15}, \"zerolinecolor\": \"white\", \"zerolinewidth\": 2}, \"yaxis\": {\"automargin\": true, \"gridcolor\": \"white\", \"linecolor\": \"white\", \"ticks\": \"\", \"title\": {\"standoff\": 15}, \"zerolinecolor\": \"white\", \"zerolinewidth\": 2}}}, \"title\": {\"text\": \"Top 10 Stations: Evening Commute at ?PM\"}, \"width\": 600},\n",
       "                        {\"responsive\": true}\n",
       "                    ).then(function(){\n",
       "                            \n",
       "var gd = document.getElementById('230be048-e958-43f3-b36c-b7038ac174e7');\n",
       "var x = new MutationObserver(function (mutations, observer) {{\n",
       "        var display = window.getComputedStyle(gd).display;\n",
       "        if (!display || display === 'none') {{\n",
       "            console.log([gd, 'removed!']);\n",
       "            Plotly.purge(gd);\n",
       "            observer.disconnect();\n",
       "        }}\n",
       "}});\n",
       "\n",
       "// Listen for the removal of the full notebook cells\n",
       "var notebookContainer = gd.closest('#notebook-container');\n",
       "if (notebookContainer) {{\n",
       "    x.observe(notebookContainer, {childList: true});\n",
       "}}\n",
       "\n",
       "// Listen for the clearing of the current output cell\n",
       "var outputEl = gd.closest('.output');\n",
       "if (outputEl) {{\n",
       "    x.observe(outputEl, {childList: true});\n",
       "}}\n",
       "\n",
       "                        })\n",
       "                };\n",
       "                });\n",
       "            </script>\n",
       "        </div>"
      ]
     },
     "metadata": {},
     "output_type": "display_data"
    }
   ],
   "source": [
    "px.set_mapbox_access_token(\n",
    "    'pk.eyJ1Ijoic3RldmVqa2FwbGFuIiwiYSI6ImNrYzU5cmU4MTAzZnMydGpoYW9samtjemsifQ.4vpWJGjiGUC-K389B4JdbA'\n",
    ")\n",
    "fig = px.scatter_mapbox(df_morning_top_10, lat=\"Entrance Latitude\", lon=\"Entrance Longitude\", size=\"HOURLY_ENTRIES\",\n",
    "                        color_continuous_scale=px.colors.cyclical.IceFire, size_max=15, zoom=11, opacity=0.5,\n",
    "                        width=600,height=800, mapbox_style='light', color='Station Name', \n",
    "                        title='Top 10 Stations: Morning Commute at ?AM')\n",
    "fig.show()\n",
    "\n",
    "fig = px.scatter_mapbox(df_evening_top_10, lat=\"Entrance Latitude\", lon=\"Entrance Longitude\", size=\"HOURLY_ENTRIES\",\n",
    "                        color_continuous_scale=px.colors.cyclical.IceFire, size_max=15, zoom=11, opacity=0.5,\n",
    "                        width=600,height=800, mapbox_style='dark', color='Station Name',\n",
    "                        title='Top 10 Stations: Evening Commute at ?PM')\n",
    "fig.show()"
   ]
  },
  {
   "cell_type": "markdown",
   "metadata": {},
   "source": [
    "#### 2. Time of Day Trends"
   ]
  },
  {
   "cell_type": "code",
   "execution_count": null,
   "metadata": {},
   "outputs": [],
   "source": []
  },
  {
   "cell_type": "markdown",
   "metadata": {},
   "source": [
    "#### 3. Day of Week Trends"
   ]
  },
  {
   "cell_type": "code",
   "execution_count": null,
   "metadata": {},
   "outputs": [],
   "source": []
  },
  {
   "cell_type": "markdown",
   "metadata": {},
   "source": [
    "#### 4. Days to Avoid"
   ]
  },
  {
   "cell_type": "code",
   "execution_count": null,
   "metadata": {},
   "outputs": [],
   "source": []
  },
  {
   "cell_type": "markdown",
   "metadata": {},
   "source": [
    "#### 5. Coronavirus Caveat (long term time trend) (202020 vs previous year)"
   ]
  },
  {
   "cell_type": "code",
   "execution_count": null,
   "metadata": {},
   "outputs": [],
   "source": []
  },
  {
   "cell_type": "markdown",
   "metadata": {},
   "source": [
    "recommend specific booths to stand near since different booths service different isolated access points in the station"
   ]
  },
  {
   "cell_type": "code",
   "execution_count": null,
   "metadata": {},
   "outputs": [],
   "source": []
  },
  {
   "cell_type": "code",
   "execution_count": null,
   "metadata": {},
   "outputs": [],
   "source": []
  }
 ],
 "metadata": {
  "kernelspec": {
   "display_name": "Python 3",
   "language": "python",
   "name": "python3"
  },
  "language_info": {
   "codemirror_mode": {
    "name": "ipython",
    "version": 3
   },
   "file_extension": ".py",
   "mimetype": "text/x-python",
   "name": "python",
   "nbconvert_exporter": "python",
   "pygments_lexer": "ipython3",
   "version": "3.8.3"
  }
 },
 "nbformat": 4,
 "nbformat_minor": 4
}
