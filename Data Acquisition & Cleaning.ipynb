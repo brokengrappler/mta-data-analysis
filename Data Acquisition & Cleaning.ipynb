{
 "cells": [
  {
   "cell_type": "markdown",
   "metadata": {},
   "source": [
    "# MTA Analysis: Data Acquisition & Cleaning\n",
    "\n",
    "This analysis uses [publically available MTA Turnstile Data](http://web.mta.info/developers/turnstile.html) ranging from January 2018 until June 2020."
   ]
  },
  {
   "cell_type": "markdown",
   "metadata": {},
   "source": [
    "#### Import required libraries."
   ]
  },
  {
   "cell_type": "code",
   "execution_count": null,
   "metadata": {},
   "outputs": [],
   "source": [
    "import pandas as pd\n",
    "import urllib"
   ]
  },
  {
   "cell_type": "markdown",
   "metadata": {},
   "source": [
    "#### Define useful functions (maybe document and put this in .py file later?)"
   ]
  },
  {
   "cell_type": "code",
   "execution_count": null,
   "metadata": {},
   "outputs": [],
   "source": [
    "def convert_timestamp_to_mta_format(timestamp):\n",
    "    \n",
    "    year = str(timestamp.year)[2:4]\n",
    "    month = str(timestamp.month).zfill(2)\n",
    "    day = str(timestamp.day).zfill(2)\n",
    "    \n",
    "    date_mta_format = year + month + day\n",
    "    \n",
    "    return date_mta_format"
   ]
  },
  {
   "cell_type": "markdown",
   "metadata": {},
   "source": [
    "#### Load [MTA Turnstile Data](http://web.mta.info/developers/turnstile.html) into CSV files. \n",
    "_Note: The files already exist in the repository. This code block can be skipped over._"
   ]
  },
  {
   "cell_type": "code",
   "execution_count": null,
   "metadata": {},
   "outputs": [],
   "source": [
    "start_date = '2018-01-06'\n",
    "start_ts = pd.Timestamp(start_date)"
   ]
  },
  {
   "cell_type": "code",
   "execution_count": null,
   "metadata": {},
   "outputs": [],
   "source": [
    "current_timestamp = start_ts\n",
    "is_date_valid = True\n",
    "while is_date_valid:\n",
    "    date_formatted = convert_timestamp_to_mta_format(current_timestamp)\n",
    "    \n",
    "    # load data and write to csv\n",
    "    url = f'http://web.mta.info/developers/data/nyct/turnstile/turnstile_{date_formatted}.txt'\n",
    "    df_turnstile_data = pd.read_csv(url)\n",
    "    df_turnstile_data.to_csv(f'raw_data/mta_turnstile_data/raw_mta_turnstile_data_{date_formatted}.csv')\n",
    "    \n",
    "    # add 7 days to get next file. if resulting date is later than today, then stop loop\n",
    "    current_timestamp += pd.DateOffset(days=7)\n",
    "    if current_timestamp > pd.to_datetime(\"now\"):\n",
    "        is_data_valid = False"
   ]
  },
  {
   "cell_type": "code",
   "execution_count": null,
   "metadata": {},
   "outputs": [],
   "source": []
  }
 ],
 "metadata": {
  "kernelspec": {
   "display_name": "Python 3",
   "language": "python",
   "name": "python3"
  },
  "language_info": {
   "codemirror_mode": {
    "name": "ipython",
    "version": 3
   },
   "file_extension": ".py",
   "mimetype": "text/x-python",
   "name": "python",
   "nbconvert_exporter": "python",
   "pygments_lexer": "ipython3",
   "version": "3.7.6"
  }
 },
 "nbformat": 4,
 "nbformat_minor": 4
}
